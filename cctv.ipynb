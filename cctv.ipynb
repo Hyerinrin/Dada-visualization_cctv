{
 "cells": [
  {
   "cell_type": "markdown",
   "id": "e9011631",
   "metadata": {},
   "source": [
    "# CCTV 데이터 시각화 \n",
    "\n",
    "- 과제 제출 기한: 2022.6.21(화) 자정\n",
    "- 과제 제출 방법\n",
    "  - 아래 과업을 해결한 주피터 노트북을 'cctv.ipynb' 파일로 저장하여 제출\n",
    "  - `Kernel > Restart & Run All` 메뉴를 반드시 실행한 후 저장하여 제출\n",
    "- 과제에서 완성할 시각화 내용\n",
    "  - 버블차트\n",
    "    ![bbchart_cctv](https://user-images.githubusercontent.com/10287629/172086730-372009c9-6cd9-4336-beb6-5a9cc8bf64fa.png)\n",
    "  - 단계구분도\n",
    "    ![choropleth_cctv](https://user-images.githubusercontent.com/10287629/172055607-be2cff10-7f82-4ee1-9f2e-ada86f3e7efd.png)"
   ]
  },
  {
   "cell_type": "markdown",
   "id": "872a9298",
   "metadata": {},
   "source": [
    "- 채점 주안점\n",
    "\n",
    "![스크린샷 2022-06-06 12 43 50](https://user-images.githubusercontent.com/10287629/172091039-e70d23ee-ec8f-4783-bee4-95fe9354480b.png)"
   ]
  },
  {
   "cell_type": "markdown",
   "id": "1bc3dacc",
   "metadata": {},
   "source": [
    "# CCTV 데이터 시각화 \n",
    "\n",
    "\n",
    "\n",
    "![한양여대 로고](https://www.hywoman.ac.kr/resources/domain/ko/DM_IMG/logo.png)\n",
    "\n",
    "\n",
    "| 소속     | 한양여자대학교 |   \n",
    "|----------|----------------|\n",
    "| 이름     | 윤혜린         |  \n",
    "| 학번     | 2005943        |   \n",
    "| 제출일자 | 2022.6.21      |  \n",
    "                                                                                                  "
   ]
  },
  {
   "cell_type": "markdown",
   "id": "e9f0773a",
   "metadata": {},
   "source": [
    "# 목차\n",
    "\n",
    "1. 서론\n",
    "    - What \n",
    "    - Why\n",
    "    - How \n",
    "2. 본론\n",
    "    1. 라이브러리 삽입\n",
    "    2. 데이터 적재 및 구조 파악\n",
    "    3. 버블차트 시각화\n",
    "    4. 단계 구분도 시각화\n",
    "    5. 결론\n"
   ]
  },
  {
   "cell_type": "markdown",
   "id": "e216154c",
   "metadata": {},
   "source": [
    "## 서론"
   ]
  },
  {
   "cell_type": "markdown",
   "id": "7307f771",
   "metadata": {},
   "source": [
    "### What\n",
    "\n",
    " cctv_with_pop 데이터와 자치구청 데이터, 서울시 지도 데이터를 이용하여 자치구대 연도별 cctv 증가 비율과 이동궤적, 그리고 자치구별 증가율을 단계구분도로 나타내고자 한다."
   ]
  },
  {
   "cell_type": "markdown",
   "id": "1877ceac",
   "metadata": {},
   "source": [
    "### Why\n",
    "\n",
    " cctv 설치 증가율을 연도별, 자치구별로 구분해 한 눈에 시각 자료로 시각화하고 이 시각화에 대한 유의미한 결과를 도출해보고 이러한 결과의 원인을 분석해보고자 한다. 더 나아가 이러한 결과를 기반으로 미래 동향도 예측해 보기 위해 이 과제를 수행한다. "
   ]
  },
  {
   "cell_type": "markdown",
   "id": "5794c062",
   "metadata": {},
   "source": [
    "### How\n",
    "\n",
    " 데이터로 cctv_with_pop 데이터와 서울시 자치구청 데이터, 서울시 지도 데이터를 이용한다.\n",
    "가상환경에서 주피터 노트북을 이용하여 mark_bubble, transform_regression, 지도 시각화 기술을 통해 구현한다."
   ]
  },
  {
   "cell_type": "markdown",
   "id": "34fa6561",
   "metadata": {},
   "source": [
    "## 1. 라이브러리 임포트"
   ]
  },
  {
   "cell_type": "code",
   "execution_count": 1,
   "id": "f78d1ff0",
   "metadata": {},
   "outputs": [],
   "source": [
    "# 라이브러리 임포트\n",
    "import pandas as pd\n",
    "import altair as alt"
   ]
  },
  {
   "cell_type": "markdown",
   "id": "a7165abd",
   "metadata": {},
   "source": [
    "## 2. 데이터 적재\n",
    "\n",
    "- 필요한 데이터는 다음과 같다. \n",
    "  - 인구 및 cctv 데이터는 [여기](https://raw.githubusercontent.com/logistex/vd21/main/cctv_with_pop.csv)에서 직접 읽어서 `df`라는 데이터 프레임으로 적재하라.  \n",
    "    이 데이터에 포함된 `no` 열은 지도 시각화를 위한 [자치구 경계선 데이터](https://raw.githubusercontent.com/southkorea/seoul-maps/master/juso/2015/json/seoul_municipalities_topo.json)에 포함되어 있는 자치구의 고유 식별 번호이다. \n",
    "  \n",
    "  - 자치구청 위치 데이터는 [여기](https://raw.githubusercontent.com/logistex/vd21/main/offices.csv)에서 직접 읽어서 `offices`라는 데이터 프레임으로 적재하라. \n",
    "  - 자치구 경계선에 관한 지도 데이터는 [여기](https://raw.githubusercontent.com/southkorea/seoul-maps/master/juso/2015/json/seoul_municipalities_topo.json)에서 제공되는데, 이에 관한 코드는 (여러분의 수고를 줄여주기 위하여) 문제에 포함시켜 두었다.  \n",
    "  - 일부 csv 파일은 인코딩 방식을 지정해야만 한글을 제대로 읽을 수 있다. \n",
    "  - 데이터 파일은 모두 앞서 제공한 URL 주소로부터 직접 읽어 들이라. \n",
    "  - 데이터 프레임으로 적재한 직후에는 임의로 5행을 출력하라. "
   ]
  },
  {
   "cell_type": "code",
   "execution_count": 2,
   "id": "2be27850",
   "metadata": {},
   "outputs": [
    {
     "data": {
      "text/html": [
       "<div>\n",
       "<style scoped>\n",
       "    .dataframe tbody tr th:only-of-type {\n",
       "        vertical-align: middle;\n",
       "    }\n",
       "\n",
       "    .dataframe tbody tr th {\n",
       "        vertical-align: top;\n",
       "    }\n",
       "\n",
       "    .dataframe thead th {\n",
       "        text-align: right;\n",
       "    }\n",
       "</style>\n",
       "<table border=\"1\" class=\"dataframe\">\n",
       "  <thead>\n",
       "    <tr style=\"text-align: right;\">\n",
       "      <th></th>\n",
       "      <th>no</th>\n",
       "      <th>id</th>\n",
       "      <th>자치구</th>\n",
       "      <th>CCTV_규모_2015</th>\n",
       "      <th>CCTV_규모_2020</th>\n",
       "      <th>인구_규모_2015</th>\n",
       "      <th>인구_규모_2020</th>\n",
       "    </tr>\n",
       "  </thead>\n",
       "  <tbody>\n",
       "    <tr>\n",
       "      <th>16</th>\n",
       "      <td>5</td>\n",
       "      <td>17</td>\n",
       "      <td>구로구</td>\n",
       "      <td>1872</td>\n",
       "      <td>4075</td>\n",
       "      <td>454604</td>\n",
       "      <td>432488</td>\n",
       "    </tr>\n",
       "    <tr>\n",
       "      <th>23</th>\n",
       "      <td>19</td>\n",
       "      <td>24</td>\n",
       "      <td>송파구</td>\n",
       "      <td>520</td>\n",
       "      <td>2743</td>\n",
       "      <td>667480</td>\n",
       "      <td>673926</td>\n",
       "    </tr>\n",
       "    <tr>\n",
       "      <th>0</th>\n",
       "      <td>6</td>\n",
       "      <td>1</td>\n",
       "      <td>종로구</td>\n",
       "      <td>1175</td>\n",
       "      <td>1729</td>\n",
       "      <td>163822</td>\n",
       "      <td>158996</td>\n",
       "    </tr>\n",
       "    <tr>\n",
       "      <th>24</th>\n",
       "      <td>12</td>\n",
       "      <td>25</td>\n",
       "      <td>강동구</td>\n",
       "      <td>725</td>\n",
       "      <td>2547</td>\n",
       "      <td>463321</td>\n",
       "      <td>463998</td>\n",
       "    </tr>\n",
       "    <tr>\n",
       "      <th>12</th>\n",
       "      <td>21</td>\n",
       "      <td>13</td>\n",
       "      <td>서대문구</td>\n",
       "      <td>1235</td>\n",
       "      <td>2939</td>\n",
       "      <td>323105</td>\n",
       "      <td>322952</td>\n",
       "    </tr>\n",
       "  </tbody>\n",
       "</table>\n",
       "</div>"
      ],
      "text/plain": [
       "    no  id   자치구  CCTV_규모_2015  CCTV_규모_2020  인구_규모_2015  인구_규모_2020\n",
       "16   5  17   구로구          1872          4075      454604      432488\n",
       "23  19  24   송파구           520          2743      667480      673926\n",
       "0    6   1   종로구          1175          1729      163822      158996\n",
       "24  12  25   강동구           725          2547      463321      463998\n",
       "12  21  13  서대문구          1235          2939      323105      322952"
      ]
     },
     "execution_count": 2,
     "metadata": {},
     "output_type": "execute_result"
    }
   ],
   "source": [
    "# cctv 및 인구 데이터 적재 및 확인\n",
    "df = pd.read_csv('https://raw.githubusercontent.com/logistex/vd21/main/cctv_with_pop.csv')\n",
    "df.sample(5)"
   ]
  },
  {
   "cell_type": "code",
   "execution_count": 3,
   "id": "16a84999",
   "metadata": {},
   "outputs": [
    {
     "data": {
      "text/html": [
       "<div>\n",
       "<style scoped>\n",
       "    .dataframe tbody tr th:only-of-type {\n",
       "        vertical-align: middle;\n",
       "    }\n",
       "\n",
       "    .dataframe tbody tr th {\n",
       "        vertical-align: top;\n",
       "    }\n",
       "\n",
       "    .dataframe thead th {\n",
       "        text-align: right;\n",
       "    }\n",
       "</style>\n",
       "<table border=\"1\" class=\"dataframe\">\n",
       "  <thead>\n",
       "    <tr style=\"text-align: right;\">\n",
       "      <th></th>\n",
       "      <th>자치구</th>\n",
       "      <th>자치구청</th>\n",
       "      <th>위도</th>\n",
       "      <th>경도</th>\n",
       "      <th>주소</th>\n",
       "    </tr>\n",
       "  </thead>\n",
       "  <tbody>\n",
       "    <tr>\n",
       "      <th>15</th>\n",
       "      <td>강서구</td>\n",
       "      <td>강서구청</td>\n",
       "      <td>37.550910</td>\n",
       "      <td>126.849574</td>\n",
       "      <td>대한민국 서울특별시 강서구 화곡동 화곡로 302</td>\n",
       "    </tr>\n",
       "    <tr>\n",
       "      <th>2</th>\n",
       "      <td>용산구</td>\n",
       "      <td>용산구청</td>\n",
       "      <td>37.532590</td>\n",
       "      <td>126.990043</td>\n",
       "      <td>대한민국 서울특별시 용산구 이태원동 녹사평대로 150</td>\n",
       "    </tr>\n",
       "    <tr>\n",
       "      <th>6</th>\n",
       "      <td>중랑구</td>\n",
       "      <td>중랑구청</td>\n",
       "      <td>37.606560</td>\n",
       "      <td>127.092624</td>\n",
       "      <td>대한민국 서울특별시 중랑구 신내동 662</td>\n",
       "    </tr>\n",
       "    <tr>\n",
       "      <th>11</th>\n",
       "      <td>은평구</td>\n",
       "      <td>은평구청</td>\n",
       "      <td>37.602750</td>\n",
       "      <td>126.929239</td>\n",
       "      <td>대한민국 서울특별시 은평구 녹번동 은평로 195</td>\n",
       "    </tr>\n",
       "    <tr>\n",
       "      <th>22</th>\n",
       "      <td>강남구</td>\n",
       "      <td>강남구청</td>\n",
       "      <td>37.517236</td>\n",
       "      <td>127.047325</td>\n",
       "      <td>대한민국 서울특별시 강남구 426</td>\n",
       "    </tr>\n",
       "  </tbody>\n",
       "</table>\n",
       "</div>"
      ],
      "text/plain": [
       "    자치구  자치구청         위도          경도                             주소\n",
       "15  강서구  강서구청  37.550910  126.849574     대한민국 서울특별시 강서구 화곡동 화곡로 302\n",
       "2   용산구  용산구청  37.532590  126.990043  대한민국 서울특별시 용산구 이태원동 녹사평대로 150\n",
       "6   중랑구  중랑구청  37.606560  127.092624         대한민국 서울특별시 중랑구 신내동 662\n",
       "11  은평구  은평구청  37.602750  126.929239     대한민국 서울특별시 은평구 녹번동 은평로 195\n",
       "22  강남구  강남구청  37.517236  127.047325             대한민국 서울특별시 강남구 426"
      ]
     },
     "execution_count": 3,
     "metadata": {},
     "output_type": "execute_result"
    }
   ],
   "source": [
    "# 지도 시각화를 위한 자치구 위치 데이터 적재 및 확인\n",
    "offices = pd.read_csv('https://raw.githubusercontent.com/logistex/vd21/main/offices.csv')\n",
    "offices.sample(5)"
   ]
  },
  {
   "cell_type": "code",
   "execution_count": 4,
   "id": "743dc7e0",
   "metadata": {},
   "outputs": [
    {
     "data": {
      "text/plain": [
       "UrlData({\n",
       "  format: TopoDataFormat({\n",
       "    feature: 'seoul_municipalities_geo',\n",
       "    type: 'topojson'\n",
       "  }),\n",
       "  url: 'https://raw.githubusercontent.com/southkorea/seoul-maps/master/juso/2015/json/seoul_municipalities_topo.json'\n",
       "})"
      ]
     },
     "execution_count": 4,
     "metadata": {},
     "output_type": "execute_result"
    }
   ],
   "source": [
    "# 자치구 경계선에 관한 지도 데이터\n",
    "seoul_url = 'https://raw.githubusercontent.com/southkorea/seoul-maps/master/juso/2015/json/seoul_municipalities_topo.json'\n",
    "seoul = alt.topo_feature(seoul_url, 'seoul_municipalities_geo')\n",
    "seoul"
   ]
  },
  {
   "cell_type": "markdown",
   "id": "c637721c",
   "metadata": {},
   "source": [
    "## 3. 버블차트 시각화\n",
    "\n",
    "### 3.1 회귀선을 포함한 버블차트를 반환하는 함수 정의 \n",
    "\n",
    "- 함수 `bubble(year, color)`를 정의하라. \n",
    "- 매개변수 `year`에 정수 `2015`를 지정하면 2015년 차트를 반환한다. \n",
    "- 매개변수 `color`에 색상 이름을 지정하면, 해당 색상으로 버블과 회귀선이 그려진 차트를 반환한다. \n"
   ]
  },
  {
   "cell_type": "code",
   "execution_count": 5,
   "id": "bb486209",
   "metadata": {},
   "outputs": [],
   "source": [
    "# 회귀선 버블차트 시각화 함수 정의\n",
    "\n",
    "def bubble(year, color):\n",
    "    bb = alt.Chart(df).mark_circle(opacity=0.5, color=color).transform_calculate(\n",
    "        rate='datum.CCTV_규모_'+year+'/datum.인구_규모_'+year\n",
    "    ).encode(\n",
    "        alt.X('인구_규모_'+year+':Q',\n",
    "              scale=alt.Scale(type='linear',domain=[100000,700000]),\n",
    "              title='인구 규모(단위:명)'),\n",
    "        alt.Y('CCTV_규모_'+year+':Q',\n",
    "              scale=alt.Scale(type='linear', domain=[0,7000]), #Y축 설정\n",
    "              title='CCTV 설치 규모[단위:대]'),\n",
    "        size=alt.Size('rate:Q', scale=alt.Scale(range=[10,1000]),legend=None), #설정한 버블 크기 적용\n",
    "        order=alt.Order('rate:Q', sort='descending'), #작은 버블이 위로 가게\n",
    "        tooltip=[ alt.Tooltip('자치구:N'),\n",
    "                  alt.Tooltip('rate:Q',format='.1%',title='CCTV 비율'),\n",
    "                  alt.Tooltip('CCTV_규모_'+year+':Q', title='CCTV 규모'),\n",
    "                  alt.Tooltip('인구_규모_'+year+':Q', title='인구 규모')]#툴팁\n",
    "      ).properties(\n",
    "            title={\n",
    "                \"text\":[\"자치구별 인구 대비 CCTV 설치 규모\",\"(2015 대 2020년)\"],\n",
    "                \"subtitle\":[\"- 2015년은 푸른색, 2020년은 빨간색 원으로 표시\",\"- 원 크기는 인구 대비 CCTV 비율\",\n",
    "                           \"- 직선 두께와 색상은 2015년 대비 2020년 증가율\"]\n",
    "            },\n",
    "             width=600,\n",
    "             height=500\n",
    "    )\n",
    "    \n",
    "\n",
    "    reg = bb.transform_regression('인구_규모_'+year,'CCTV_규모_'+year).mark_line(color=color,opacity=0.5)\n",
    "\n",
    "    return  alt.layer(bb, reg) # 버블 차트 위에 회귀선을 겹쳐서 표시          "
   ]
  },
  {
   "cell_type": "markdown",
   "id": "ff8a89a6",
   "metadata": {},
   "source": [
    "### 3.2 2015년도 차트 시각화"
   ]
  },
  {
   "cell_type": "code",
   "execution_count": 6,
   "id": "6e046efb",
   "metadata": {
    "scrolled": false
   },
   "outputs": [
    {
     "data": {
      "text/html": [
       "\n",
       "<div id=\"altair-viz-a3636facb9604b0e9583c4b9ff512688\"></div>\n",
       "<script type=\"text/javascript\">\n",
       "  var VEGA_DEBUG = (typeof VEGA_DEBUG == \"undefined\") ? {} : VEGA_DEBUG;\n",
       "  (function(spec, embedOpt){\n",
       "    let outputDiv = document.currentScript.previousElementSibling;\n",
       "    if (outputDiv.id !== \"altair-viz-a3636facb9604b0e9583c4b9ff512688\") {\n",
       "      outputDiv = document.getElementById(\"altair-viz-a3636facb9604b0e9583c4b9ff512688\");\n",
       "    }\n",
       "    const paths = {\n",
       "      \"vega\": \"https://cdn.jsdelivr.net/npm//vega@5?noext\",\n",
       "      \"vega-lib\": \"https://cdn.jsdelivr.net/npm//vega-lib?noext\",\n",
       "      \"vega-lite\": \"https://cdn.jsdelivr.net/npm//vega-lite@4.17.0?noext\",\n",
       "      \"vega-embed\": \"https://cdn.jsdelivr.net/npm//vega-embed@6?noext\",\n",
       "    };\n",
       "\n",
       "    function maybeLoadScript(lib, version) {\n",
       "      var key = `${lib.replace(\"-\", \"\")}_version`;\n",
       "      return (VEGA_DEBUG[key] == version) ?\n",
       "        Promise.resolve(paths[lib]) :\n",
       "        new Promise(function(resolve, reject) {\n",
       "          var s = document.createElement('script');\n",
       "          document.getElementsByTagName(\"head\")[0].appendChild(s);\n",
       "          s.async = true;\n",
       "          s.onload = () => {\n",
       "            VEGA_DEBUG[key] = version;\n",
       "            return resolve(paths[lib]);\n",
       "          };\n",
       "          s.onerror = () => reject(`Error loading script: ${paths[lib]}`);\n",
       "          s.src = paths[lib];\n",
       "        });\n",
       "    }\n",
       "\n",
       "    function showError(err) {\n",
       "      outputDiv.innerHTML = `<div class=\"error\" style=\"color:red;\">${err}</div>`;\n",
       "      throw err;\n",
       "    }\n",
       "\n",
       "    function displayChart(vegaEmbed) {\n",
       "      vegaEmbed(outputDiv, spec, embedOpt)\n",
       "        .catch(err => showError(`Javascript Error: ${err.message}<br>This usually means there's a typo in your chart specification. See the javascript console for the full traceback.`));\n",
       "    }\n",
       "\n",
       "    if(typeof define === \"function\" && define.amd) {\n",
       "      requirejs.config({paths});\n",
       "      require([\"vega-embed\"], displayChart, err => showError(`Error loading script: ${err.message}`));\n",
       "    } else {\n",
       "      maybeLoadScript(\"vega\", \"5\")\n",
       "        .then(() => maybeLoadScript(\"vega-lite\", \"4.17.0\"))\n",
       "        .then(() => maybeLoadScript(\"vega-embed\", \"6\"))\n",
       "        .catch(showError)\n",
       "        .then(() => displayChart(vegaEmbed));\n",
       "    }\n",
       "  })({\"config\": {\"view\": {\"continuousWidth\": 400, \"continuousHeight\": 300}}, \"layer\": [{\"mark\": {\"type\": \"circle\", \"color\": \"blue\", \"opacity\": 0.5}, \"encoding\": {\"order\": {\"field\": \"rate\", \"sort\": \"descending\", \"type\": \"quantitative\"}, \"size\": {\"field\": \"rate\", \"legend\": null, \"scale\": {\"range\": [10, 1000]}, \"type\": \"quantitative\"}, \"tooltip\": [{\"field\": \"\\uc790\\uce58\\uad6c\", \"type\": \"nominal\"}, {\"field\": \"rate\", \"format\": \".1%\", \"title\": \"CCTV \\ube44\\uc728\", \"type\": \"quantitative\"}, {\"field\": \"CCTV_\\uaddc\\ubaa8_2015\", \"title\": \"CCTV \\uaddc\\ubaa8\", \"type\": \"quantitative\"}, {\"field\": \"\\uc778\\uad6c_\\uaddc\\ubaa8_2015\", \"title\": \"\\uc778\\uad6c \\uaddc\\ubaa8\", \"type\": \"quantitative\"}], \"x\": {\"field\": \"\\uc778\\uad6c_\\uaddc\\ubaa8_2015\", \"scale\": {\"domain\": [100000, 700000], \"type\": \"linear\"}, \"title\": \"\\uc778\\uad6c \\uaddc\\ubaa8(\\ub2e8\\uc704:\\uba85)\", \"type\": \"quantitative\"}, \"y\": {\"field\": \"CCTV_\\uaddc\\ubaa8_2015\", \"scale\": {\"domain\": [0, 7000], \"type\": \"linear\"}, \"title\": \"CCTV \\uc124\\uce58 \\uaddc\\ubaa8[\\ub2e8\\uc704:\\ub300]\", \"type\": \"quantitative\"}}, \"height\": 500, \"title\": {\"text\": [\"\\uc790\\uce58\\uad6c\\ubcc4 \\uc778\\uad6c \\ub300\\ube44 CCTV \\uc124\\uce58 \\uaddc\\ubaa8\", \"(2015 \\ub300 2020\\ub144)\"], \"subtitle\": [\"- 2015\\ub144\\uc740 \\ud478\\ub978\\uc0c9, 2020\\ub144\\uc740 \\ube68\\uac04\\uc0c9 \\uc6d0\\uc73c\\ub85c \\ud45c\\uc2dc\", \"- \\uc6d0 \\ud06c\\uae30\\ub294 \\uc778\\uad6c \\ub300\\ube44 CCTV \\ube44\\uc728\", \"- \\uc9c1\\uc120 \\ub450\\uaed8\\uc640 \\uc0c9\\uc0c1\\uc740 2015\\ub144 \\ub300\\ube44 2020\\ub144 \\uc99d\\uac00\\uc728\"]}, \"transform\": [{\"calculate\": \"datum.CCTV_\\uaddc\\ubaa8_2015/datum.\\uc778\\uad6c_\\uaddc\\ubaa8_2015\", \"as\": \"rate\"}], \"width\": 600}, {\"mark\": {\"type\": \"line\", \"color\": \"blue\", \"opacity\": 0.5}, \"encoding\": {\"order\": {\"field\": \"rate\", \"sort\": \"descending\", \"type\": \"quantitative\"}, \"size\": {\"field\": \"rate\", \"legend\": null, \"scale\": {\"range\": [10, 1000]}, \"type\": \"quantitative\"}, \"tooltip\": [{\"field\": \"\\uc790\\uce58\\uad6c\", \"type\": \"nominal\"}, {\"field\": \"rate\", \"format\": \".1%\", \"title\": \"CCTV \\ube44\\uc728\", \"type\": \"quantitative\"}, {\"field\": \"CCTV_\\uaddc\\ubaa8_2015\", \"title\": \"CCTV \\uaddc\\ubaa8\", \"type\": \"quantitative\"}, {\"field\": \"\\uc778\\uad6c_\\uaddc\\ubaa8_2015\", \"title\": \"\\uc778\\uad6c \\uaddc\\ubaa8\", \"type\": \"quantitative\"}], \"x\": {\"field\": \"\\uc778\\uad6c_\\uaddc\\ubaa8_2015\", \"scale\": {\"domain\": [100000, 700000], \"type\": \"linear\"}, \"title\": \"\\uc778\\uad6c \\uaddc\\ubaa8(\\ub2e8\\uc704:\\uba85)\", \"type\": \"quantitative\"}, \"y\": {\"field\": \"CCTV_\\uaddc\\ubaa8_2015\", \"scale\": {\"domain\": [0, 7000], \"type\": \"linear\"}, \"title\": \"CCTV \\uc124\\uce58 \\uaddc\\ubaa8[\\ub2e8\\uc704:\\ub300]\", \"type\": \"quantitative\"}}, \"height\": 500, \"title\": {\"text\": [\"\\uc790\\uce58\\uad6c\\ubcc4 \\uc778\\uad6c \\ub300\\ube44 CCTV \\uc124\\uce58 \\uaddc\\ubaa8\", \"(2015 \\ub300 2020\\ub144)\"], \"subtitle\": [\"- 2015\\ub144\\uc740 \\ud478\\ub978\\uc0c9, 2020\\ub144\\uc740 \\ube68\\uac04\\uc0c9 \\uc6d0\\uc73c\\ub85c \\ud45c\\uc2dc\", \"- \\uc6d0 \\ud06c\\uae30\\ub294 \\uc778\\uad6c \\ub300\\ube44 CCTV \\ube44\\uc728\", \"- \\uc9c1\\uc120 \\ub450\\uaed8\\uc640 \\uc0c9\\uc0c1\\uc740 2015\\ub144 \\ub300\\ube44 2020\\ub144 \\uc99d\\uac00\\uc728\"]}, \"transform\": [{\"calculate\": \"datum.CCTV_\\uaddc\\ubaa8_2015/datum.\\uc778\\uad6c_\\uaddc\\ubaa8_2015\", \"as\": \"rate\"}, {\"on\": \"\\uc778\\uad6c_\\uaddc\\ubaa8_2015\", \"regression\": \"CCTV_\\uaddc\\ubaa8_2015\"}], \"width\": 600}], \"data\": {\"name\": \"data-45ff08f1c85640db9e6eb2564c10a79f\"}, \"$schema\": \"https://vega.github.io/schema/vega-lite/v4.17.0.json\", \"datasets\": {\"data-45ff08f1c85640db9e6eb2564c10a79f\": [{\"no\": 6, \"id\": 1, \"\\uc790\\uce58\\uad6c\": \"\\uc885\\ub85c\\uad6c\", \"CCTV_\\uaddc\\ubaa8_2015\": 1175, \"CCTV_\\uaddc\\ubaa8_2020\": 1729, \"\\uc778\\uad6c_\\uaddc\\ubaa8_2015\": 163822, \"\\uc778\\uad6c_\\uaddc\\ubaa8_2020\": 158996}, {\"no\": 11, \"id\": 2, \"\\uc790\\uce58\\uad6c\": \"\\uc911\\uad6c\", \"CCTV_\\uaddc\\ubaa8_2015\": 654, \"CCTV_\\uaddc\\ubaa8_2020\": 2001, \"\\uc778\\uad6c_\\uaddc\\ubaa8_2015\": 134329, \"\\uc778\\uad6c_\\uaddc\\ubaa8_2020\": 134635}, {\"no\": 24, \"id\": 3, \"\\uc790\\uce58\\uad6c\": \"\\uc6a9\\uc0b0\\uad6c\", \"CCTV_\\uaddc\\ubaa8_2015\": 685, \"CCTV_\\uaddc\\ubaa8_2020\": 2383, \"\\uc778\\uad6c_\\uaddc\\ubaa8_2015\": 247909, \"\\uc778\\uad6c_\\uaddc\\ubaa8_2020\": 244645}, {\"no\": 20, \"id\": 4, \"\\uc790\\uce58\\uad6c\": \"\\uc131\\ub3d9\\uad6c\", \"CCTV_\\uaddc\\ubaa8_2015\": 1289, \"CCTV_\\uaddc\\ubaa8_2020\": 3515, \"\\uc778\\uad6c_\\uaddc\\ubaa8_2015\": 305065, \"\\uc778\\uad6c_\\uaddc\\ubaa8_2020\": 300505}, {\"no\": 13, \"id\": 5, \"\\uc790\\uce58\\uad6c\": \"\\uad11\\uc9c4\\uad6c\", \"CCTV_\\uaddc\\ubaa8_2015\": 477, \"CCTV_\\uaddc\\ubaa8_2020\": 2556, \"\\uc778\\uad6c_\\uaddc\\ubaa8_2015\": 375180, \"\\uc778\\uad6c_\\uaddc\\ubaa8_2020\": 360109}, {\"no\": 2, \"id\": 6, \"\\uc790\\uce58\\uad6c\": \"\\ub3d9\\ub300\\ubb38\\uad6c\", \"CCTV_\\uaddc\\ubaa8_2015\": 1436, \"CCTV_\\uaddc\\ubaa8_2020\": 2315, \"\\uc778\\uad6c_\\uaddc\\ubaa8_2015\": 373824, \"\\uc778\\uad6c_\\uaddc\\ubaa8_2020\": 357014}, {\"no\": 8, \"id\": 7, \"\\uc790\\uce58\\uad6c\": \"\\uc911\\ub791\\uad6c\", \"CCTV_\\uaddc\\ubaa8_2015\": 821, \"CCTV_\\uaddc\\ubaa8_2020\": 3285, \"\\uc778\\uad6c_\\uaddc\\ubaa8_2015\": 418620, \"\\uc778\\uad6c_\\uaddc\\ubaa8_2020\": 399562}, {\"no\": 17, \"id\": 8, \"\\uc790\\uce58\\uad6c\": \"\\uc131\\ubd81\\uad6c\", \"CCTV_\\uaddc\\ubaa8_2015\": 897, \"CCTV_\\uaddc\\ubaa8_2020\": 3754, \"\\uc778\\uad6c_\\uaddc\\ubaa8_2015\": 469560, \"\\uc778\\uad6c_\\uaddc\\ubaa8_2020\": 447056}, {\"no\": 7, \"id\": 9, \"\\uc790\\uce58\\uad6c\": \"\\uac15\\ubd81\\uad6c\", \"CCTV_\\uaddc\\ubaa8_2015\": 270, \"CCTV_\\uaddc\\ubaa8_2020\": 2462, \"\\uc778\\uad6c_\\uaddc\\ubaa8_2015\": 334426, \"\\uc778\\uad6c_\\uaddc\\ubaa8_2020\": 311569}, {\"no\": 0, \"id\": 10, \"\\uc790\\uce58\\uad6c\": \"\\ub3c4\\ubd09\\uad6c\", \"CCTV_\\uaddc\\ubaa8_2015\": 434, \"CCTV_\\uaddc\\ubaa8_2020\": 1356, \"\\uc778\\uad6c_\\uaddc\\ubaa8_2015\": 353241, \"\\uc778\\uad6c_\\uaddc\\ubaa8_2020\": 327361}, {\"no\": 18, \"id\": 11, \"\\uc790\\uce58\\uad6c\": \"\\ub178\\uc6d0\\uad6c\", \"CCTV_\\uaddc\\ubaa8_2015\": 909, \"CCTV_\\uaddc\\ubaa8_2020\": 2282, \"\\uc778\\uad6c_\\uaddc\\ubaa8_2015\": 578221, \"\\uc778\\uad6c_\\uaddc\\ubaa8_2020\": 527032}, {\"no\": 1, \"id\": 12, \"\\uc790\\uce58\\uad6c\": \"\\uc740\\ud3c9\\uad6c\", \"CCTV_\\uaddc\\ubaa8_2015\": 722, \"CCTV_\\uaddc\\ubaa8_2020\": 3660, \"\\uc778\\uad6c_\\uaddc\\ubaa8_2015\": 502578, \"\\uc778\\uad6c_\\uaddc\\ubaa8_2020\": 484043}, {\"no\": 21, \"id\": 13, \"\\uc790\\uce58\\uad6c\": \"\\uc11c\\ub300\\ubb38\\uad6c\", \"CCTV_\\uaddc\\ubaa8_2015\": 1235, \"CCTV_\\uaddc\\ubaa8_2020\": 2939, \"\\uc778\\uad6c_\\uaddc\\ubaa8_2015\": 323105, \"\\uc778\\uad6c_\\uaddc\\ubaa8_2020\": 322952}, {\"no\": 14, \"id\": 14, \"\\uc790\\uce58\\uad6c\": \"\\ub9c8\\ud3ec\\uad6c\", \"CCTV_\\uaddc\\ubaa8_2015\": 729, \"CCTV_\\uaddc\\ubaa8_2020\": 2401, \"\\uc778\\uad6c_\\uaddc\\ubaa8_2015\": 398351, \"\\uc778\\uad6c_\\uaddc\\ubaa8_2020\": 381858}, {\"no\": 22, \"id\": 15, \"\\uc790\\uce58\\uad6c\": \"\\uc591\\ucc9c\\uad6c\", \"CCTV_\\uaddc\\ubaa8_2015\": 2241, \"CCTV_\\uaddc\\ubaa8_2020\": 3307, \"\\uc778\\uad6c_\\uaddc\\ubaa8_2015\": 489010, \"\\uc778\\uad6c_\\uaddc\\ubaa8_2020\": 457781}, {\"no\": 10, \"id\": 16, \"\\uc790\\uce58\\uad6c\": \"\\uac15\\uc11c\\uad6c\", \"CCTV_\\uaddc\\ubaa8_2015\": 691, \"CCTV_\\uaddc\\ubaa8_2020\": 2437, \"\\uc778\\uad6c_\\uaddc\\ubaa8_2015\": 595691, \"\\uc778\\uad6c_\\uaddc\\ubaa8_2020\": 585901}, {\"no\": 5, \"id\": 17, \"\\uc790\\uce58\\uad6c\": \"\\uad6c\\ub85c\\uad6c\", \"CCTV_\\uaddc\\ubaa8_2015\": 1872, \"CCTV_\\uaddc\\ubaa8_2020\": 4075, \"\\uc778\\uad6c_\\uaddc\\ubaa8_2015\": 454604, \"\\uc778\\uad6c_\\uaddc\\ubaa8_2020\": 432488}, {\"no\": 4, \"id\": 18, \"\\uc790\\uce58\\uad6c\": \"\\uae08\\ucc9c\\uad6c\", \"CCTV_\\uaddc\\ubaa8_2015\": 619, \"CCTV_\\uaddc\\ubaa8_2020\": 2365, \"\\uc778\\uad6c_\\uaddc\\ubaa8_2015\": 256167, \"\\uc778\\uad6c_\\uaddc\\ubaa8_2020\": 247835}, {\"no\": 23, \"id\": 19, \"\\uc790\\uce58\\uad6c\": \"\\uc601\\ub4f1\\ud3ec\\uad6c\", \"CCTV_\\uaddc\\ubaa8_2015\": 1278, \"CCTV_\\uaddc\\ubaa8_2020\": 3773, \"\\uc778\\uad6c_\\uaddc\\ubaa8_2015\": 417811, \"\\uc778\\uad6c_\\uaddc\\ubaa8_2020\": 407367}, {\"no\": 3, \"id\": 20, \"\\uc790\\uce58\\uad6c\": \"\\ub3d9\\uc791\\uad6c\", \"CCTV_\\uaddc\\ubaa8_2015\": 993, \"CCTV_\\uaddc\\ubaa8_2020\": 2262, \"\\uc778\\uad6c_\\uaddc\\ubaa8_2015\": 412774, \"\\uc778\\uad6c_\\uaddc\\ubaa8_2020\": 401572}, {\"no\": 15, \"id\": 21, \"\\uc790\\uce58\\uad6c\": \"\\uad00\\uc545\\uad6c\", \"CCTV_\\uaddc\\ubaa8_2015\": 2004, \"CCTV_\\uaddc\\ubaa8_2020\": 4909, \"\\uc778\\uad6c_\\uaddc\\ubaa8_2015\": 529031, \"\\uc778\\uad6c_\\uaddc\\ubaa8_2020\": 509803}, {\"no\": 16, \"id\": 22, \"\\uc790\\uce58\\uad6c\": \"\\uc11c\\ucd08\\uad6c\", \"CCTV_\\uaddc\\ubaa8_2015\": 916, \"CCTV_\\uaddc\\ubaa8_2020\": 3730, \"\\uc778\\uad6c_\\uaddc\\ubaa8_2015\": 451258, \"\\uc778\\uad6c_\\uaddc\\ubaa8_2020\": 429025}, {\"no\": 9, \"id\": 23, \"\\uc790\\uce58\\uad6c\": \"\\uac15\\ub0a8\\uad6c\", \"CCTV_\\uaddc\\ubaa8_2015\": 1863, \"CCTV_\\uaddc\\ubaa8_2020\": 6645, \"\\uc778\\uad6c_\\uaddc\\ubaa8_2015\": 581760, \"\\uc778\\uad6c_\\uaddc\\ubaa8_2020\": 544055}, {\"no\": 19, \"id\": 24, \"\\uc790\\uce58\\uad6c\": \"\\uc1a1\\ud30c\\uad6c\", \"CCTV_\\uaddc\\ubaa8_2015\": 520, \"CCTV_\\uaddc\\ubaa8_2020\": 2743, \"\\uc778\\uad6c_\\uaddc\\ubaa8_2015\": 667480, \"\\uc778\\uad6c_\\uaddc\\ubaa8_2020\": 673926}, {\"no\": 12, \"id\": 25, \"\\uc790\\uce58\\uad6c\": \"\\uac15\\ub3d9\\uad6c\", \"CCTV_\\uaddc\\ubaa8_2015\": 725, \"CCTV_\\uaddc\\ubaa8_2020\": 2547, \"\\uc778\\uad6c_\\uaddc\\ubaa8_2015\": 463321, \"\\uc778\\uad6c_\\uaddc\\ubaa8_2020\": 463998}]}}, {\"mode\": \"vega-lite\"});\n",
       "</script>"
      ],
      "text/plain": [
       "alt.LayerChart(...)"
      ]
     },
     "execution_count": 6,
     "metadata": {},
     "output_type": "execute_result"
    }
   ],
   "source": [
    "# 2015년도 차트를 파란색으로 시각화\n",
    "bb_reg_2015 = bubble('2015', 'blue')\n",
    "bb_reg_2015"
   ]
  },
  {
   "cell_type": "markdown",
   "id": "915c9484",
   "metadata": {},
   "source": [
    "### 3.3 2020년도 차트 시각화"
   ]
  },
  {
   "cell_type": "code",
   "execution_count": 7,
   "id": "c96add29",
   "metadata": {},
   "outputs": [
    {
     "data": {
      "text/html": [
       "\n",
       "<div id=\"altair-viz-89e58183dc86427da209c261d1f792dc\"></div>\n",
       "<script type=\"text/javascript\">\n",
       "  var VEGA_DEBUG = (typeof VEGA_DEBUG == \"undefined\") ? {} : VEGA_DEBUG;\n",
       "  (function(spec, embedOpt){\n",
       "    let outputDiv = document.currentScript.previousElementSibling;\n",
       "    if (outputDiv.id !== \"altair-viz-89e58183dc86427da209c261d1f792dc\") {\n",
       "      outputDiv = document.getElementById(\"altair-viz-89e58183dc86427da209c261d1f792dc\");\n",
       "    }\n",
       "    const paths = {\n",
       "      \"vega\": \"https://cdn.jsdelivr.net/npm//vega@5?noext\",\n",
       "      \"vega-lib\": \"https://cdn.jsdelivr.net/npm//vega-lib?noext\",\n",
       "      \"vega-lite\": \"https://cdn.jsdelivr.net/npm//vega-lite@4.17.0?noext\",\n",
       "      \"vega-embed\": \"https://cdn.jsdelivr.net/npm//vega-embed@6?noext\",\n",
       "    };\n",
       "\n",
       "    function maybeLoadScript(lib, version) {\n",
       "      var key = `${lib.replace(\"-\", \"\")}_version`;\n",
       "      return (VEGA_DEBUG[key] == version) ?\n",
       "        Promise.resolve(paths[lib]) :\n",
       "        new Promise(function(resolve, reject) {\n",
       "          var s = document.createElement('script');\n",
       "          document.getElementsByTagName(\"head\")[0].appendChild(s);\n",
       "          s.async = true;\n",
       "          s.onload = () => {\n",
       "            VEGA_DEBUG[key] = version;\n",
       "            return resolve(paths[lib]);\n",
       "          };\n",
       "          s.onerror = () => reject(`Error loading script: ${paths[lib]}`);\n",
       "          s.src = paths[lib];\n",
       "        });\n",
       "    }\n",
       "\n",
       "    function showError(err) {\n",
       "      outputDiv.innerHTML = `<div class=\"error\" style=\"color:red;\">${err}</div>`;\n",
       "      throw err;\n",
       "    }\n",
       "\n",
       "    function displayChart(vegaEmbed) {\n",
       "      vegaEmbed(outputDiv, spec, embedOpt)\n",
       "        .catch(err => showError(`Javascript Error: ${err.message}<br>This usually means there's a typo in your chart specification. See the javascript console for the full traceback.`));\n",
       "    }\n",
       "\n",
       "    if(typeof define === \"function\" && define.amd) {\n",
       "      requirejs.config({paths});\n",
       "      require([\"vega-embed\"], displayChart, err => showError(`Error loading script: ${err.message}`));\n",
       "    } else {\n",
       "      maybeLoadScript(\"vega\", \"5\")\n",
       "        .then(() => maybeLoadScript(\"vega-lite\", \"4.17.0\"))\n",
       "        .then(() => maybeLoadScript(\"vega-embed\", \"6\"))\n",
       "        .catch(showError)\n",
       "        .then(() => displayChart(vegaEmbed));\n",
       "    }\n",
       "  })({\"config\": {\"view\": {\"continuousWidth\": 400, \"continuousHeight\": 300}}, \"layer\": [{\"mark\": {\"type\": \"circle\", \"color\": \"red\", \"opacity\": 0.5}, \"encoding\": {\"order\": {\"field\": \"rate\", \"sort\": \"descending\", \"type\": \"quantitative\"}, \"size\": {\"field\": \"rate\", \"legend\": null, \"scale\": {\"range\": [10, 1000]}, \"type\": \"quantitative\"}, \"tooltip\": [{\"field\": \"\\uc790\\uce58\\uad6c\", \"type\": \"nominal\"}, {\"field\": \"rate\", \"format\": \".1%\", \"title\": \"CCTV \\ube44\\uc728\", \"type\": \"quantitative\"}, {\"field\": \"CCTV_\\uaddc\\ubaa8_2020\", \"title\": \"CCTV \\uaddc\\ubaa8\", \"type\": \"quantitative\"}, {\"field\": \"\\uc778\\uad6c_\\uaddc\\ubaa8_2020\", \"title\": \"\\uc778\\uad6c \\uaddc\\ubaa8\", \"type\": \"quantitative\"}], \"x\": {\"field\": \"\\uc778\\uad6c_\\uaddc\\ubaa8_2020\", \"scale\": {\"domain\": [100000, 700000], \"type\": \"linear\"}, \"title\": \"\\uc778\\uad6c \\uaddc\\ubaa8(\\ub2e8\\uc704:\\uba85)\", \"type\": \"quantitative\"}, \"y\": {\"field\": \"CCTV_\\uaddc\\ubaa8_2020\", \"scale\": {\"domain\": [0, 7000], \"type\": \"linear\"}, \"title\": \"CCTV \\uc124\\uce58 \\uaddc\\ubaa8[\\ub2e8\\uc704:\\ub300]\", \"type\": \"quantitative\"}}, \"height\": 500, \"title\": {\"text\": [\"\\uc790\\uce58\\uad6c\\ubcc4 \\uc778\\uad6c \\ub300\\ube44 CCTV \\uc124\\uce58 \\uaddc\\ubaa8\", \"(2015 \\ub300 2020\\ub144)\"], \"subtitle\": [\"- 2015\\ub144\\uc740 \\ud478\\ub978\\uc0c9, 2020\\ub144\\uc740 \\ube68\\uac04\\uc0c9 \\uc6d0\\uc73c\\ub85c \\ud45c\\uc2dc\", \"- \\uc6d0 \\ud06c\\uae30\\ub294 \\uc778\\uad6c \\ub300\\ube44 CCTV \\ube44\\uc728\", \"- \\uc9c1\\uc120 \\ub450\\uaed8\\uc640 \\uc0c9\\uc0c1\\uc740 2015\\ub144 \\ub300\\ube44 2020\\ub144 \\uc99d\\uac00\\uc728\"]}, \"transform\": [{\"calculate\": \"datum.CCTV_\\uaddc\\ubaa8_2020/datum.\\uc778\\uad6c_\\uaddc\\ubaa8_2020\", \"as\": \"rate\"}], \"width\": 600}, {\"mark\": {\"type\": \"line\", \"color\": \"red\", \"opacity\": 0.5}, \"encoding\": {\"order\": {\"field\": \"rate\", \"sort\": \"descending\", \"type\": \"quantitative\"}, \"size\": {\"field\": \"rate\", \"legend\": null, \"scale\": {\"range\": [10, 1000]}, \"type\": \"quantitative\"}, \"tooltip\": [{\"field\": \"\\uc790\\uce58\\uad6c\", \"type\": \"nominal\"}, {\"field\": \"rate\", \"format\": \".1%\", \"title\": \"CCTV \\ube44\\uc728\", \"type\": \"quantitative\"}, {\"field\": \"CCTV_\\uaddc\\ubaa8_2020\", \"title\": \"CCTV \\uaddc\\ubaa8\", \"type\": \"quantitative\"}, {\"field\": \"\\uc778\\uad6c_\\uaddc\\ubaa8_2020\", \"title\": \"\\uc778\\uad6c \\uaddc\\ubaa8\", \"type\": \"quantitative\"}], \"x\": {\"field\": \"\\uc778\\uad6c_\\uaddc\\ubaa8_2020\", \"scale\": {\"domain\": [100000, 700000], \"type\": \"linear\"}, \"title\": \"\\uc778\\uad6c \\uaddc\\ubaa8(\\ub2e8\\uc704:\\uba85)\", \"type\": \"quantitative\"}, \"y\": {\"field\": \"CCTV_\\uaddc\\ubaa8_2020\", \"scale\": {\"domain\": [0, 7000], \"type\": \"linear\"}, \"title\": \"CCTV \\uc124\\uce58 \\uaddc\\ubaa8[\\ub2e8\\uc704:\\ub300]\", \"type\": \"quantitative\"}}, \"height\": 500, \"title\": {\"text\": [\"\\uc790\\uce58\\uad6c\\ubcc4 \\uc778\\uad6c \\ub300\\ube44 CCTV \\uc124\\uce58 \\uaddc\\ubaa8\", \"(2015 \\ub300 2020\\ub144)\"], \"subtitle\": [\"- 2015\\ub144\\uc740 \\ud478\\ub978\\uc0c9, 2020\\ub144\\uc740 \\ube68\\uac04\\uc0c9 \\uc6d0\\uc73c\\ub85c \\ud45c\\uc2dc\", \"- \\uc6d0 \\ud06c\\uae30\\ub294 \\uc778\\uad6c \\ub300\\ube44 CCTV \\ube44\\uc728\", \"- \\uc9c1\\uc120 \\ub450\\uaed8\\uc640 \\uc0c9\\uc0c1\\uc740 2015\\ub144 \\ub300\\ube44 2020\\ub144 \\uc99d\\uac00\\uc728\"]}, \"transform\": [{\"calculate\": \"datum.CCTV_\\uaddc\\ubaa8_2020/datum.\\uc778\\uad6c_\\uaddc\\ubaa8_2020\", \"as\": \"rate\"}, {\"on\": \"\\uc778\\uad6c_\\uaddc\\ubaa8_2020\", \"regression\": \"CCTV_\\uaddc\\ubaa8_2020\"}], \"width\": 600}], \"data\": {\"name\": \"data-45ff08f1c85640db9e6eb2564c10a79f\"}, \"$schema\": \"https://vega.github.io/schema/vega-lite/v4.17.0.json\", \"datasets\": {\"data-45ff08f1c85640db9e6eb2564c10a79f\": [{\"no\": 6, \"id\": 1, \"\\uc790\\uce58\\uad6c\": \"\\uc885\\ub85c\\uad6c\", \"CCTV_\\uaddc\\ubaa8_2015\": 1175, \"CCTV_\\uaddc\\ubaa8_2020\": 1729, \"\\uc778\\uad6c_\\uaddc\\ubaa8_2015\": 163822, \"\\uc778\\uad6c_\\uaddc\\ubaa8_2020\": 158996}, {\"no\": 11, \"id\": 2, \"\\uc790\\uce58\\uad6c\": \"\\uc911\\uad6c\", \"CCTV_\\uaddc\\ubaa8_2015\": 654, \"CCTV_\\uaddc\\ubaa8_2020\": 2001, \"\\uc778\\uad6c_\\uaddc\\ubaa8_2015\": 134329, \"\\uc778\\uad6c_\\uaddc\\ubaa8_2020\": 134635}, {\"no\": 24, \"id\": 3, \"\\uc790\\uce58\\uad6c\": \"\\uc6a9\\uc0b0\\uad6c\", \"CCTV_\\uaddc\\ubaa8_2015\": 685, \"CCTV_\\uaddc\\ubaa8_2020\": 2383, \"\\uc778\\uad6c_\\uaddc\\ubaa8_2015\": 247909, \"\\uc778\\uad6c_\\uaddc\\ubaa8_2020\": 244645}, {\"no\": 20, \"id\": 4, \"\\uc790\\uce58\\uad6c\": \"\\uc131\\ub3d9\\uad6c\", \"CCTV_\\uaddc\\ubaa8_2015\": 1289, \"CCTV_\\uaddc\\ubaa8_2020\": 3515, \"\\uc778\\uad6c_\\uaddc\\ubaa8_2015\": 305065, \"\\uc778\\uad6c_\\uaddc\\ubaa8_2020\": 300505}, {\"no\": 13, \"id\": 5, \"\\uc790\\uce58\\uad6c\": \"\\uad11\\uc9c4\\uad6c\", \"CCTV_\\uaddc\\ubaa8_2015\": 477, \"CCTV_\\uaddc\\ubaa8_2020\": 2556, \"\\uc778\\uad6c_\\uaddc\\ubaa8_2015\": 375180, \"\\uc778\\uad6c_\\uaddc\\ubaa8_2020\": 360109}, {\"no\": 2, \"id\": 6, \"\\uc790\\uce58\\uad6c\": \"\\ub3d9\\ub300\\ubb38\\uad6c\", \"CCTV_\\uaddc\\ubaa8_2015\": 1436, \"CCTV_\\uaddc\\ubaa8_2020\": 2315, \"\\uc778\\uad6c_\\uaddc\\ubaa8_2015\": 373824, \"\\uc778\\uad6c_\\uaddc\\ubaa8_2020\": 357014}, {\"no\": 8, \"id\": 7, \"\\uc790\\uce58\\uad6c\": \"\\uc911\\ub791\\uad6c\", \"CCTV_\\uaddc\\ubaa8_2015\": 821, \"CCTV_\\uaddc\\ubaa8_2020\": 3285, \"\\uc778\\uad6c_\\uaddc\\ubaa8_2015\": 418620, \"\\uc778\\uad6c_\\uaddc\\ubaa8_2020\": 399562}, {\"no\": 17, \"id\": 8, \"\\uc790\\uce58\\uad6c\": \"\\uc131\\ubd81\\uad6c\", \"CCTV_\\uaddc\\ubaa8_2015\": 897, \"CCTV_\\uaddc\\ubaa8_2020\": 3754, \"\\uc778\\uad6c_\\uaddc\\ubaa8_2015\": 469560, \"\\uc778\\uad6c_\\uaddc\\ubaa8_2020\": 447056}, {\"no\": 7, \"id\": 9, \"\\uc790\\uce58\\uad6c\": \"\\uac15\\ubd81\\uad6c\", \"CCTV_\\uaddc\\ubaa8_2015\": 270, \"CCTV_\\uaddc\\ubaa8_2020\": 2462, \"\\uc778\\uad6c_\\uaddc\\ubaa8_2015\": 334426, \"\\uc778\\uad6c_\\uaddc\\ubaa8_2020\": 311569}, {\"no\": 0, \"id\": 10, \"\\uc790\\uce58\\uad6c\": \"\\ub3c4\\ubd09\\uad6c\", \"CCTV_\\uaddc\\ubaa8_2015\": 434, \"CCTV_\\uaddc\\ubaa8_2020\": 1356, \"\\uc778\\uad6c_\\uaddc\\ubaa8_2015\": 353241, \"\\uc778\\uad6c_\\uaddc\\ubaa8_2020\": 327361}, {\"no\": 18, \"id\": 11, \"\\uc790\\uce58\\uad6c\": \"\\ub178\\uc6d0\\uad6c\", \"CCTV_\\uaddc\\ubaa8_2015\": 909, \"CCTV_\\uaddc\\ubaa8_2020\": 2282, \"\\uc778\\uad6c_\\uaddc\\ubaa8_2015\": 578221, \"\\uc778\\uad6c_\\uaddc\\ubaa8_2020\": 527032}, {\"no\": 1, \"id\": 12, \"\\uc790\\uce58\\uad6c\": \"\\uc740\\ud3c9\\uad6c\", \"CCTV_\\uaddc\\ubaa8_2015\": 722, \"CCTV_\\uaddc\\ubaa8_2020\": 3660, \"\\uc778\\uad6c_\\uaddc\\ubaa8_2015\": 502578, \"\\uc778\\uad6c_\\uaddc\\ubaa8_2020\": 484043}, {\"no\": 21, \"id\": 13, \"\\uc790\\uce58\\uad6c\": \"\\uc11c\\ub300\\ubb38\\uad6c\", \"CCTV_\\uaddc\\ubaa8_2015\": 1235, \"CCTV_\\uaddc\\ubaa8_2020\": 2939, \"\\uc778\\uad6c_\\uaddc\\ubaa8_2015\": 323105, \"\\uc778\\uad6c_\\uaddc\\ubaa8_2020\": 322952}, {\"no\": 14, \"id\": 14, \"\\uc790\\uce58\\uad6c\": \"\\ub9c8\\ud3ec\\uad6c\", \"CCTV_\\uaddc\\ubaa8_2015\": 729, \"CCTV_\\uaddc\\ubaa8_2020\": 2401, \"\\uc778\\uad6c_\\uaddc\\ubaa8_2015\": 398351, \"\\uc778\\uad6c_\\uaddc\\ubaa8_2020\": 381858}, {\"no\": 22, \"id\": 15, \"\\uc790\\uce58\\uad6c\": \"\\uc591\\ucc9c\\uad6c\", \"CCTV_\\uaddc\\ubaa8_2015\": 2241, \"CCTV_\\uaddc\\ubaa8_2020\": 3307, \"\\uc778\\uad6c_\\uaddc\\ubaa8_2015\": 489010, \"\\uc778\\uad6c_\\uaddc\\ubaa8_2020\": 457781}, {\"no\": 10, \"id\": 16, \"\\uc790\\uce58\\uad6c\": \"\\uac15\\uc11c\\uad6c\", \"CCTV_\\uaddc\\ubaa8_2015\": 691, \"CCTV_\\uaddc\\ubaa8_2020\": 2437, \"\\uc778\\uad6c_\\uaddc\\ubaa8_2015\": 595691, \"\\uc778\\uad6c_\\uaddc\\ubaa8_2020\": 585901}, {\"no\": 5, \"id\": 17, \"\\uc790\\uce58\\uad6c\": \"\\uad6c\\ub85c\\uad6c\", \"CCTV_\\uaddc\\ubaa8_2015\": 1872, \"CCTV_\\uaddc\\ubaa8_2020\": 4075, \"\\uc778\\uad6c_\\uaddc\\ubaa8_2015\": 454604, \"\\uc778\\uad6c_\\uaddc\\ubaa8_2020\": 432488}, {\"no\": 4, \"id\": 18, \"\\uc790\\uce58\\uad6c\": \"\\uae08\\ucc9c\\uad6c\", \"CCTV_\\uaddc\\ubaa8_2015\": 619, \"CCTV_\\uaddc\\ubaa8_2020\": 2365, \"\\uc778\\uad6c_\\uaddc\\ubaa8_2015\": 256167, \"\\uc778\\uad6c_\\uaddc\\ubaa8_2020\": 247835}, {\"no\": 23, \"id\": 19, \"\\uc790\\uce58\\uad6c\": \"\\uc601\\ub4f1\\ud3ec\\uad6c\", \"CCTV_\\uaddc\\ubaa8_2015\": 1278, \"CCTV_\\uaddc\\ubaa8_2020\": 3773, \"\\uc778\\uad6c_\\uaddc\\ubaa8_2015\": 417811, \"\\uc778\\uad6c_\\uaddc\\ubaa8_2020\": 407367}, {\"no\": 3, \"id\": 20, \"\\uc790\\uce58\\uad6c\": \"\\ub3d9\\uc791\\uad6c\", \"CCTV_\\uaddc\\ubaa8_2015\": 993, \"CCTV_\\uaddc\\ubaa8_2020\": 2262, \"\\uc778\\uad6c_\\uaddc\\ubaa8_2015\": 412774, \"\\uc778\\uad6c_\\uaddc\\ubaa8_2020\": 401572}, {\"no\": 15, \"id\": 21, \"\\uc790\\uce58\\uad6c\": \"\\uad00\\uc545\\uad6c\", \"CCTV_\\uaddc\\ubaa8_2015\": 2004, \"CCTV_\\uaddc\\ubaa8_2020\": 4909, \"\\uc778\\uad6c_\\uaddc\\ubaa8_2015\": 529031, \"\\uc778\\uad6c_\\uaddc\\ubaa8_2020\": 509803}, {\"no\": 16, \"id\": 22, \"\\uc790\\uce58\\uad6c\": \"\\uc11c\\ucd08\\uad6c\", \"CCTV_\\uaddc\\ubaa8_2015\": 916, \"CCTV_\\uaddc\\ubaa8_2020\": 3730, \"\\uc778\\uad6c_\\uaddc\\ubaa8_2015\": 451258, \"\\uc778\\uad6c_\\uaddc\\ubaa8_2020\": 429025}, {\"no\": 9, \"id\": 23, \"\\uc790\\uce58\\uad6c\": \"\\uac15\\ub0a8\\uad6c\", \"CCTV_\\uaddc\\ubaa8_2015\": 1863, \"CCTV_\\uaddc\\ubaa8_2020\": 6645, \"\\uc778\\uad6c_\\uaddc\\ubaa8_2015\": 581760, \"\\uc778\\uad6c_\\uaddc\\ubaa8_2020\": 544055}, {\"no\": 19, \"id\": 24, \"\\uc790\\uce58\\uad6c\": \"\\uc1a1\\ud30c\\uad6c\", \"CCTV_\\uaddc\\ubaa8_2015\": 520, \"CCTV_\\uaddc\\ubaa8_2020\": 2743, \"\\uc778\\uad6c_\\uaddc\\ubaa8_2015\": 667480, \"\\uc778\\uad6c_\\uaddc\\ubaa8_2020\": 673926}, {\"no\": 12, \"id\": 25, \"\\uc790\\uce58\\uad6c\": \"\\uac15\\ub3d9\\uad6c\", \"CCTV_\\uaddc\\ubaa8_2015\": 725, \"CCTV_\\uaddc\\ubaa8_2020\": 2547, \"\\uc778\\uad6c_\\uaddc\\ubaa8_2015\": 463321, \"\\uc778\\uad6c_\\uaddc\\ubaa8_2020\": 463998}]}}, {\"mode\": \"vega-lite\"});\n",
       "</script>"
      ],
      "text/plain": [
       "alt.LayerChart(...)"
      ]
     },
     "execution_count": 7,
     "metadata": {},
     "output_type": "execute_result"
    }
   ],
   "source": [
    "# 2020년도 차트를 빨간색으로 시각화\n",
    "bb_reg_2020 = bubble('2020', 'red')\n",
    "bb_reg_2020"
   ]
  },
  {
   "cell_type": "markdown",
   "id": "fc19b834",
   "metadata": {},
   "source": [
    "### 3.4 이동궤적 시각화"
   ]
  },
  {
   "cell_type": "code",
   "execution_count": 8,
   "id": "689317bd",
   "metadata": {
    "scrolled": false
   },
   "outputs": [
    {
     "data": {
      "text/html": [
       "\n",
       "<div id=\"altair-viz-36e03806c1854ba48d79a20215dac213\"></div>\n",
       "<script type=\"text/javascript\">\n",
       "  var VEGA_DEBUG = (typeof VEGA_DEBUG == \"undefined\") ? {} : VEGA_DEBUG;\n",
       "  (function(spec, embedOpt){\n",
       "    let outputDiv = document.currentScript.previousElementSibling;\n",
       "    if (outputDiv.id !== \"altair-viz-36e03806c1854ba48d79a20215dac213\") {\n",
       "      outputDiv = document.getElementById(\"altair-viz-36e03806c1854ba48d79a20215dac213\");\n",
       "    }\n",
       "    const paths = {\n",
       "      \"vega\": \"https://cdn.jsdelivr.net/npm//vega@5?noext\",\n",
       "      \"vega-lib\": \"https://cdn.jsdelivr.net/npm//vega-lib?noext\",\n",
       "      \"vega-lite\": \"https://cdn.jsdelivr.net/npm//vega-lite@4.17.0?noext\",\n",
       "      \"vega-embed\": \"https://cdn.jsdelivr.net/npm//vega-embed@6?noext\",\n",
       "    };\n",
       "\n",
       "    function maybeLoadScript(lib, version) {\n",
       "      var key = `${lib.replace(\"-\", \"\")}_version`;\n",
       "      return (VEGA_DEBUG[key] == version) ?\n",
       "        Promise.resolve(paths[lib]) :\n",
       "        new Promise(function(resolve, reject) {\n",
       "          var s = document.createElement('script');\n",
       "          document.getElementsByTagName(\"head\")[0].appendChild(s);\n",
       "          s.async = true;\n",
       "          s.onload = () => {\n",
       "            VEGA_DEBUG[key] = version;\n",
       "            return resolve(paths[lib]);\n",
       "          };\n",
       "          s.onerror = () => reject(`Error loading script: ${paths[lib]}`);\n",
       "          s.src = paths[lib];\n",
       "        });\n",
       "    }\n",
       "\n",
       "    function showError(err) {\n",
       "      outputDiv.innerHTML = `<div class=\"error\" style=\"color:red;\">${err}</div>`;\n",
       "      throw err;\n",
       "    }\n",
       "\n",
       "    function displayChart(vegaEmbed) {\n",
       "      vegaEmbed(outputDiv, spec, embedOpt)\n",
       "        .catch(err => showError(`Javascript Error: ${err.message}<br>This usually means there's a typo in your chart specification. See the javascript console for the full traceback.`));\n",
       "    }\n",
       "\n",
       "    if(typeof define === \"function\" && define.amd) {\n",
       "      requirejs.config({paths});\n",
       "      require([\"vega-embed\"], displayChart, err => showError(`Error loading script: ${err.message}`));\n",
       "    } else {\n",
       "      maybeLoadScript(\"vega\", \"5\")\n",
       "        .then(() => maybeLoadScript(\"vega-lite\", \"4.17.0\"))\n",
       "        .then(() => maybeLoadScript(\"vega-embed\", \"6\"))\n",
       "        .catch(showError)\n",
       "        .then(() => displayChart(vegaEmbed));\n",
       "    }\n",
       "  })({\"config\": {\"view\": {\"continuousWidth\": 400, \"continuousHeight\": 300}}, \"data\": {\"name\": \"data-45ff08f1c85640db9e6eb2564c10a79f\"}, \"mark\": \"line\", \"encoding\": {\"color\": {\"field\": \"up_rate\", \"legend\": null, \"type\": \"temporal\"}, \"size\": {\"field\": \"up_rate\", \"legend\": null, \"type\": \"temporal\"}, \"tooltip\": [{\"field\": \"\\uc790\\uce58\\uad6c\", \"type\": \"nominal\"}, {\"field\": \"up_rate\", \"format\": \".1%\", \"title\": \"CCTV_\\uc99d\\uac00\\uc728\", \"type\": \"nominal\"}], \"x\": {\"field\": \"\\uc778\\uad6c_\\uaddc\\ubaa8_2015\", \"scale\": {\"domain\": [100000, 700000], \"type\": \"linear\"}, \"title\": \"\\uc778\\uad6c_\\uaddc\\ubaa8(\\ub2e8\\uc704:\\uba85)\", \"type\": \"quantitative\"}, \"x2\": {\"field\": \"\\uc778\\uad6c_\\uaddc\\ubaa8_2020\"}, \"y\": {\"field\": \"CCTV_\\uaddc\\ubaa8_2015\", \"scale\": {\"domain\": [0, 7000], \"type\": \"linear\"}, \"title\": \"CCTV\\uc124\\uce58[\\ub2e8\\uc704:\\ub300]\", \"type\": \"quantitative\"}, \"y2\": {\"field\": \"CCTV_\\uaddc\\ubaa8_2020\"}}, \"height\": 500, \"transform\": [{\"calculate\": \"(datum.CCTV_\\uaddc\\ubaa8_2020-datum.CCTV_\\uaddc\\ubaa8_2015)/datum.CCTV_\\uaddc\\ubaa8_2015\", \"as\": \"up_rate\"}], \"width\": 600, \"$schema\": \"https://vega.github.io/schema/vega-lite/v4.17.0.json\", \"datasets\": {\"data-45ff08f1c85640db9e6eb2564c10a79f\": [{\"no\": 6, \"id\": 1, \"\\uc790\\uce58\\uad6c\": \"\\uc885\\ub85c\\uad6c\", \"CCTV_\\uaddc\\ubaa8_2015\": 1175, \"CCTV_\\uaddc\\ubaa8_2020\": 1729, \"\\uc778\\uad6c_\\uaddc\\ubaa8_2015\": 163822, \"\\uc778\\uad6c_\\uaddc\\ubaa8_2020\": 158996}, {\"no\": 11, \"id\": 2, \"\\uc790\\uce58\\uad6c\": \"\\uc911\\uad6c\", \"CCTV_\\uaddc\\ubaa8_2015\": 654, \"CCTV_\\uaddc\\ubaa8_2020\": 2001, \"\\uc778\\uad6c_\\uaddc\\ubaa8_2015\": 134329, \"\\uc778\\uad6c_\\uaddc\\ubaa8_2020\": 134635}, {\"no\": 24, \"id\": 3, \"\\uc790\\uce58\\uad6c\": \"\\uc6a9\\uc0b0\\uad6c\", \"CCTV_\\uaddc\\ubaa8_2015\": 685, \"CCTV_\\uaddc\\ubaa8_2020\": 2383, \"\\uc778\\uad6c_\\uaddc\\ubaa8_2015\": 247909, \"\\uc778\\uad6c_\\uaddc\\ubaa8_2020\": 244645}, {\"no\": 20, \"id\": 4, \"\\uc790\\uce58\\uad6c\": \"\\uc131\\ub3d9\\uad6c\", \"CCTV_\\uaddc\\ubaa8_2015\": 1289, \"CCTV_\\uaddc\\ubaa8_2020\": 3515, \"\\uc778\\uad6c_\\uaddc\\ubaa8_2015\": 305065, \"\\uc778\\uad6c_\\uaddc\\ubaa8_2020\": 300505}, {\"no\": 13, \"id\": 5, \"\\uc790\\uce58\\uad6c\": \"\\uad11\\uc9c4\\uad6c\", \"CCTV_\\uaddc\\ubaa8_2015\": 477, \"CCTV_\\uaddc\\ubaa8_2020\": 2556, \"\\uc778\\uad6c_\\uaddc\\ubaa8_2015\": 375180, \"\\uc778\\uad6c_\\uaddc\\ubaa8_2020\": 360109}, {\"no\": 2, \"id\": 6, \"\\uc790\\uce58\\uad6c\": \"\\ub3d9\\ub300\\ubb38\\uad6c\", \"CCTV_\\uaddc\\ubaa8_2015\": 1436, \"CCTV_\\uaddc\\ubaa8_2020\": 2315, \"\\uc778\\uad6c_\\uaddc\\ubaa8_2015\": 373824, \"\\uc778\\uad6c_\\uaddc\\ubaa8_2020\": 357014}, {\"no\": 8, \"id\": 7, \"\\uc790\\uce58\\uad6c\": \"\\uc911\\ub791\\uad6c\", \"CCTV_\\uaddc\\ubaa8_2015\": 821, \"CCTV_\\uaddc\\ubaa8_2020\": 3285, \"\\uc778\\uad6c_\\uaddc\\ubaa8_2015\": 418620, \"\\uc778\\uad6c_\\uaddc\\ubaa8_2020\": 399562}, {\"no\": 17, \"id\": 8, \"\\uc790\\uce58\\uad6c\": \"\\uc131\\ubd81\\uad6c\", \"CCTV_\\uaddc\\ubaa8_2015\": 897, \"CCTV_\\uaddc\\ubaa8_2020\": 3754, \"\\uc778\\uad6c_\\uaddc\\ubaa8_2015\": 469560, \"\\uc778\\uad6c_\\uaddc\\ubaa8_2020\": 447056}, {\"no\": 7, \"id\": 9, \"\\uc790\\uce58\\uad6c\": \"\\uac15\\ubd81\\uad6c\", \"CCTV_\\uaddc\\ubaa8_2015\": 270, \"CCTV_\\uaddc\\ubaa8_2020\": 2462, \"\\uc778\\uad6c_\\uaddc\\ubaa8_2015\": 334426, \"\\uc778\\uad6c_\\uaddc\\ubaa8_2020\": 311569}, {\"no\": 0, \"id\": 10, \"\\uc790\\uce58\\uad6c\": \"\\ub3c4\\ubd09\\uad6c\", \"CCTV_\\uaddc\\ubaa8_2015\": 434, \"CCTV_\\uaddc\\ubaa8_2020\": 1356, \"\\uc778\\uad6c_\\uaddc\\ubaa8_2015\": 353241, \"\\uc778\\uad6c_\\uaddc\\ubaa8_2020\": 327361}, {\"no\": 18, \"id\": 11, \"\\uc790\\uce58\\uad6c\": \"\\ub178\\uc6d0\\uad6c\", \"CCTV_\\uaddc\\ubaa8_2015\": 909, \"CCTV_\\uaddc\\ubaa8_2020\": 2282, \"\\uc778\\uad6c_\\uaddc\\ubaa8_2015\": 578221, \"\\uc778\\uad6c_\\uaddc\\ubaa8_2020\": 527032}, {\"no\": 1, \"id\": 12, \"\\uc790\\uce58\\uad6c\": \"\\uc740\\ud3c9\\uad6c\", \"CCTV_\\uaddc\\ubaa8_2015\": 722, \"CCTV_\\uaddc\\ubaa8_2020\": 3660, \"\\uc778\\uad6c_\\uaddc\\ubaa8_2015\": 502578, \"\\uc778\\uad6c_\\uaddc\\ubaa8_2020\": 484043}, {\"no\": 21, \"id\": 13, \"\\uc790\\uce58\\uad6c\": \"\\uc11c\\ub300\\ubb38\\uad6c\", \"CCTV_\\uaddc\\ubaa8_2015\": 1235, \"CCTV_\\uaddc\\ubaa8_2020\": 2939, \"\\uc778\\uad6c_\\uaddc\\ubaa8_2015\": 323105, \"\\uc778\\uad6c_\\uaddc\\ubaa8_2020\": 322952}, {\"no\": 14, \"id\": 14, \"\\uc790\\uce58\\uad6c\": \"\\ub9c8\\ud3ec\\uad6c\", \"CCTV_\\uaddc\\ubaa8_2015\": 729, \"CCTV_\\uaddc\\ubaa8_2020\": 2401, \"\\uc778\\uad6c_\\uaddc\\ubaa8_2015\": 398351, \"\\uc778\\uad6c_\\uaddc\\ubaa8_2020\": 381858}, {\"no\": 22, \"id\": 15, \"\\uc790\\uce58\\uad6c\": \"\\uc591\\ucc9c\\uad6c\", \"CCTV_\\uaddc\\ubaa8_2015\": 2241, \"CCTV_\\uaddc\\ubaa8_2020\": 3307, \"\\uc778\\uad6c_\\uaddc\\ubaa8_2015\": 489010, \"\\uc778\\uad6c_\\uaddc\\ubaa8_2020\": 457781}, {\"no\": 10, \"id\": 16, \"\\uc790\\uce58\\uad6c\": \"\\uac15\\uc11c\\uad6c\", \"CCTV_\\uaddc\\ubaa8_2015\": 691, \"CCTV_\\uaddc\\ubaa8_2020\": 2437, \"\\uc778\\uad6c_\\uaddc\\ubaa8_2015\": 595691, \"\\uc778\\uad6c_\\uaddc\\ubaa8_2020\": 585901}, {\"no\": 5, \"id\": 17, \"\\uc790\\uce58\\uad6c\": \"\\uad6c\\ub85c\\uad6c\", \"CCTV_\\uaddc\\ubaa8_2015\": 1872, \"CCTV_\\uaddc\\ubaa8_2020\": 4075, \"\\uc778\\uad6c_\\uaddc\\ubaa8_2015\": 454604, \"\\uc778\\uad6c_\\uaddc\\ubaa8_2020\": 432488}, {\"no\": 4, \"id\": 18, \"\\uc790\\uce58\\uad6c\": \"\\uae08\\ucc9c\\uad6c\", \"CCTV_\\uaddc\\ubaa8_2015\": 619, \"CCTV_\\uaddc\\ubaa8_2020\": 2365, \"\\uc778\\uad6c_\\uaddc\\ubaa8_2015\": 256167, \"\\uc778\\uad6c_\\uaddc\\ubaa8_2020\": 247835}, {\"no\": 23, \"id\": 19, \"\\uc790\\uce58\\uad6c\": \"\\uc601\\ub4f1\\ud3ec\\uad6c\", \"CCTV_\\uaddc\\ubaa8_2015\": 1278, \"CCTV_\\uaddc\\ubaa8_2020\": 3773, \"\\uc778\\uad6c_\\uaddc\\ubaa8_2015\": 417811, \"\\uc778\\uad6c_\\uaddc\\ubaa8_2020\": 407367}, {\"no\": 3, \"id\": 20, \"\\uc790\\uce58\\uad6c\": \"\\ub3d9\\uc791\\uad6c\", \"CCTV_\\uaddc\\ubaa8_2015\": 993, \"CCTV_\\uaddc\\ubaa8_2020\": 2262, \"\\uc778\\uad6c_\\uaddc\\ubaa8_2015\": 412774, \"\\uc778\\uad6c_\\uaddc\\ubaa8_2020\": 401572}, {\"no\": 15, \"id\": 21, \"\\uc790\\uce58\\uad6c\": \"\\uad00\\uc545\\uad6c\", \"CCTV_\\uaddc\\ubaa8_2015\": 2004, \"CCTV_\\uaddc\\ubaa8_2020\": 4909, \"\\uc778\\uad6c_\\uaddc\\ubaa8_2015\": 529031, \"\\uc778\\uad6c_\\uaddc\\ubaa8_2020\": 509803}, {\"no\": 16, \"id\": 22, \"\\uc790\\uce58\\uad6c\": \"\\uc11c\\ucd08\\uad6c\", \"CCTV_\\uaddc\\ubaa8_2015\": 916, \"CCTV_\\uaddc\\ubaa8_2020\": 3730, \"\\uc778\\uad6c_\\uaddc\\ubaa8_2015\": 451258, \"\\uc778\\uad6c_\\uaddc\\ubaa8_2020\": 429025}, {\"no\": 9, \"id\": 23, \"\\uc790\\uce58\\uad6c\": \"\\uac15\\ub0a8\\uad6c\", \"CCTV_\\uaddc\\ubaa8_2015\": 1863, \"CCTV_\\uaddc\\ubaa8_2020\": 6645, \"\\uc778\\uad6c_\\uaddc\\ubaa8_2015\": 581760, \"\\uc778\\uad6c_\\uaddc\\ubaa8_2020\": 544055}, {\"no\": 19, \"id\": 24, \"\\uc790\\uce58\\uad6c\": \"\\uc1a1\\ud30c\\uad6c\", \"CCTV_\\uaddc\\ubaa8_2015\": 520, \"CCTV_\\uaddc\\ubaa8_2020\": 2743, \"\\uc778\\uad6c_\\uaddc\\ubaa8_2015\": 667480, \"\\uc778\\uad6c_\\uaddc\\ubaa8_2020\": 673926}, {\"no\": 12, \"id\": 25, \"\\uc790\\uce58\\uad6c\": \"\\uac15\\ub3d9\\uad6c\", \"CCTV_\\uaddc\\ubaa8_2015\": 725, \"CCTV_\\uaddc\\ubaa8_2020\": 2547, \"\\uc778\\uad6c_\\uaddc\\ubaa8_2015\": 463321, \"\\uc778\\uad6c_\\uaddc\\ubaa8_2020\": 463998}]}}, {\"mode\": \"vega-lite\"});\n",
       "</script>"
      ],
      "text/plain": [
       "alt.Chart(...)"
      ]
     },
     "execution_count": 8,
     "metadata": {},
     "output_type": "execute_result"
    }
   ],
   "source": [
    "# 버블 이동궤적 시각화\n",
    "\n",
    "move = alt.Chart(df).mark_line().transform_calculate(\n",
    "        up_rate= '(datum.CCTV_규모_2020-datum.CCTV_규모_2015)/datum.CCTV_규모_2015'\n",
    ").encode(\n",
    "    alt.X('인구_규모_2015:Q',\n",
    "          scale=alt.Scale(type='linear',domain=[100000,700000]),\n",
    "          title='인구_규모(단위:명)'),\n",
    "    alt.X2('인구_규모_2020:Q'),\n",
    "    alt.Y('CCTV_규모_2015:Q',\n",
    "          scale=alt.Scale(type='linear', domain=[0,7000]), #Y축 설정\n",
    "          title='CCTV설치[단위:대]'),\n",
    "    alt.Y2('CCTV_규모_2020:Q'),\n",
    "    alt.Size('up_rate:T',legend=None),\n",
    "    alt.Color('up_rate:T', legend=None),\n",
    "    tooltip=[alt.Tooltip('자치구:N'),\n",
    "             alt.Tooltip('up_rate:N',format='.1%',title='CCTV_증가율')]\n",
    ").properties(\n",
    "             width=600,\n",
    "             height=500\n",
    "    )\n",
    "move"
   ]
  },
  {
   "cell_type": "markdown",
   "id": "a2674702",
   "metadata": {},
   "source": [
    "### 3.5 시각화 결과 통합"
   ]
  },
  {
   "cell_type": "code",
   "execution_count": 9,
   "id": "736525af",
   "metadata": {
    "scrolled": false
   },
   "outputs": [
    {
     "data": {
      "text/html": [
       "\n",
       "<div id=\"altair-viz-aced23f071b94267be0fb7bf81cdc9f0\"></div>\n",
       "<script type=\"text/javascript\">\n",
       "  var VEGA_DEBUG = (typeof VEGA_DEBUG == \"undefined\") ? {} : VEGA_DEBUG;\n",
       "  (function(spec, embedOpt){\n",
       "    let outputDiv = document.currentScript.previousElementSibling;\n",
       "    if (outputDiv.id !== \"altair-viz-aced23f071b94267be0fb7bf81cdc9f0\") {\n",
       "      outputDiv = document.getElementById(\"altair-viz-aced23f071b94267be0fb7bf81cdc9f0\");\n",
       "    }\n",
       "    const paths = {\n",
       "      \"vega\": \"https://cdn.jsdelivr.net/npm//vega@5?noext\",\n",
       "      \"vega-lib\": \"https://cdn.jsdelivr.net/npm//vega-lib?noext\",\n",
       "      \"vega-lite\": \"https://cdn.jsdelivr.net/npm//vega-lite@4.17.0?noext\",\n",
       "      \"vega-embed\": \"https://cdn.jsdelivr.net/npm//vega-embed@6?noext\",\n",
       "    };\n",
       "\n",
       "    function maybeLoadScript(lib, version) {\n",
       "      var key = `${lib.replace(\"-\", \"\")}_version`;\n",
       "      return (VEGA_DEBUG[key] == version) ?\n",
       "        Promise.resolve(paths[lib]) :\n",
       "        new Promise(function(resolve, reject) {\n",
       "          var s = document.createElement('script');\n",
       "          document.getElementsByTagName(\"head\")[0].appendChild(s);\n",
       "          s.async = true;\n",
       "          s.onload = () => {\n",
       "            VEGA_DEBUG[key] = version;\n",
       "            return resolve(paths[lib]);\n",
       "          };\n",
       "          s.onerror = () => reject(`Error loading script: ${paths[lib]}`);\n",
       "          s.src = paths[lib];\n",
       "        });\n",
       "    }\n",
       "\n",
       "    function showError(err) {\n",
       "      outputDiv.innerHTML = `<div class=\"error\" style=\"color:red;\">${err}</div>`;\n",
       "      throw err;\n",
       "    }\n",
       "\n",
       "    function displayChart(vegaEmbed) {\n",
       "      vegaEmbed(outputDiv, spec, embedOpt)\n",
       "        .catch(err => showError(`Javascript Error: ${err.message}<br>This usually means there's a typo in your chart specification. See the javascript console for the full traceback.`));\n",
       "    }\n",
       "\n",
       "    if(typeof define === \"function\" && define.amd) {\n",
       "      requirejs.config({paths});\n",
       "      require([\"vega-embed\"], displayChart, err => showError(`Error loading script: ${err.message}`));\n",
       "    } else {\n",
       "      maybeLoadScript(\"vega\", \"5\")\n",
       "        .then(() => maybeLoadScript(\"vega-lite\", \"4.17.0\"))\n",
       "        .then(() => maybeLoadScript(\"vega-embed\", \"6\"))\n",
       "        .catch(showError)\n",
       "        .then(() => displayChart(vegaEmbed));\n",
       "    }\n",
       "  })({\"config\": {\"view\": {\"continuousWidth\": 400, \"continuousHeight\": 300}}, \"layer\": [{\"layer\": [{\"mark\": {\"type\": \"circle\", \"color\": \"blue\", \"opacity\": 0.5}, \"encoding\": {\"order\": {\"field\": \"rate\", \"sort\": \"descending\", \"type\": \"quantitative\"}, \"size\": {\"field\": \"rate\", \"legend\": null, \"scale\": {\"range\": [10, 1000]}, \"type\": \"quantitative\"}, \"tooltip\": [{\"field\": \"\\uc790\\uce58\\uad6c\", \"type\": \"nominal\"}, {\"field\": \"rate\", \"format\": \".1%\", \"title\": \"CCTV \\ube44\\uc728\", \"type\": \"quantitative\"}, {\"field\": \"CCTV_\\uaddc\\ubaa8_2015\", \"title\": \"CCTV \\uaddc\\ubaa8\", \"type\": \"quantitative\"}, {\"field\": \"\\uc778\\uad6c_\\uaddc\\ubaa8_2015\", \"title\": \"\\uc778\\uad6c \\uaddc\\ubaa8\", \"type\": \"quantitative\"}], \"x\": {\"field\": \"\\uc778\\uad6c_\\uaddc\\ubaa8_2015\", \"scale\": {\"domain\": [100000, 700000], \"type\": \"linear\"}, \"title\": \"\\uc778\\uad6c \\uaddc\\ubaa8(\\ub2e8\\uc704:\\uba85)\", \"type\": \"quantitative\"}, \"y\": {\"field\": \"CCTV_\\uaddc\\ubaa8_2015\", \"scale\": {\"domain\": [0, 7000], \"type\": \"linear\"}, \"title\": \"CCTV \\uc124\\uce58 \\uaddc\\ubaa8[\\ub2e8\\uc704:\\ub300]\", \"type\": \"quantitative\"}}, \"height\": 500, \"title\": {\"text\": [\"\\uc790\\uce58\\uad6c\\ubcc4 \\uc778\\uad6c \\ub300\\ube44 CCTV \\uc124\\uce58 \\uaddc\\ubaa8\", \"(2015 \\ub300 2020\\ub144)\"], \"subtitle\": [\"- 2015\\ub144\\uc740 \\ud478\\ub978\\uc0c9, 2020\\ub144\\uc740 \\ube68\\uac04\\uc0c9 \\uc6d0\\uc73c\\ub85c \\ud45c\\uc2dc\", \"- \\uc6d0 \\ud06c\\uae30\\ub294 \\uc778\\uad6c \\ub300\\ube44 CCTV \\ube44\\uc728\", \"- \\uc9c1\\uc120 \\ub450\\uaed8\\uc640 \\uc0c9\\uc0c1\\uc740 2015\\ub144 \\ub300\\ube44 2020\\ub144 \\uc99d\\uac00\\uc728\"]}, \"transform\": [{\"calculate\": \"datum.CCTV_\\uaddc\\ubaa8_2015/datum.\\uc778\\uad6c_\\uaddc\\ubaa8_2015\", \"as\": \"rate\"}], \"width\": 600}, {\"mark\": {\"type\": \"line\", \"color\": \"blue\", \"opacity\": 0.5}, \"encoding\": {\"order\": {\"field\": \"rate\", \"sort\": \"descending\", \"type\": \"quantitative\"}, \"size\": {\"field\": \"rate\", \"legend\": null, \"scale\": {\"range\": [10, 1000]}, \"type\": \"quantitative\"}, \"tooltip\": [{\"field\": \"\\uc790\\uce58\\uad6c\", \"type\": \"nominal\"}, {\"field\": \"rate\", \"format\": \".1%\", \"title\": \"CCTV \\ube44\\uc728\", \"type\": \"quantitative\"}, {\"field\": \"CCTV_\\uaddc\\ubaa8_2015\", \"title\": \"CCTV \\uaddc\\ubaa8\", \"type\": \"quantitative\"}, {\"field\": \"\\uc778\\uad6c_\\uaddc\\ubaa8_2015\", \"title\": \"\\uc778\\uad6c \\uaddc\\ubaa8\", \"type\": \"quantitative\"}], \"x\": {\"field\": \"\\uc778\\uad6c_\\uaddc\\ubaa8_2015\", \"scale\": {\"domain\": [100000, 700000], \"type\": \"linear\"}, \"title\": \"\\uc778\\uad6c \\uaddc\\ubaa8(\\ub2e8\\uc704:\\uba85)\", \"type\": \"quantitative\"}, \"y\": {\"field\": \"CCTV_\\uaddc\\ubaa8_2015\", \"scale\": {\"domain\": [0, 7000], \"type\": \"linear\"}, \"title\": \"CCTV \\uc124\\uce58 \\uaddc\\ubaa8[\\ub2e8\\uc704:\\ub300]\", \"type\": \"quantitative\"}}, \"height\": 500, \"title\": {\"text\": [\"\\uc790\\uce58\\uad6c\\ubcc4 \\uc778\\uad6c \\ub300\\ube44 CCTV \\uc124\\uce58 \\uaddc\\ubaa8\", \"(2015 \\ub300 2020\\ub144)\"], \"subtitle\": [\"- 2015\\ub144\\uc740 \\ud478\\ub978\\uc0c9, 2020\\ub144\\uc740 \\ube68\\uac04\\uc0c9 \\uc6d0\\uc73c\\ub85c \\ud45c\\uc2dc\", \"- \\uc6d0 \\ud06c\\uae30\\ub294 \\uc778\\uad6c \\ub300\\ube44 CCTV \\ube44\\uc728\", \"- \\uc9c1\\uc120 \\ub450\\uaed8\\uc640 \\uc0c9\\uc0c1\\uc740 2015\\ub144 \\ub300\\ube44 2020\\ub144 \\uc99d\\uac00\\uc728\"]}, \"transform\": [{\"calculate\": \"datum.CCTV_\\uaddc\\ubaa8_2015/datum.\\uc778\\uad6c_\\uaddc\\ubaa8_2015\", \"as\": \"rate\"}, {\"on\": \"\\uc778\\uad6c_\\uaddc\\ubaa8_2015\", \"regression\": \"CCTV_\\uaddc\\ubaa8_2015\"}], \"width\": 600}]}, {\"layer\": [{\"mark\": {\"type\": \"circle\", \"color\": \"red\", \"opacity\": 0.5}, \"encoding\": {\"order\": {\"field\": \"rate\", \"sort\": \"descending\", \"type\": \"quantitative\"}, \"size\": {\"field\": \"rate\", \"legend\": null, \"scale\": {\"range\": [10, 1000]}, \"type\": \"quantitative\"}, \"tooltip\": [{\"field\": \"\\uc790\\uce58\\uad6c\", \"type\": \"nominal\"}, {\"field\": \"rate\", \"format\": \".1%\", \"title\": \"CCTV \\ube44\\uc728\", \"type\": \"quantitative\"}, {\"field\": \"CCTV_\\uaddc\\ubaa8_2020\", \"title\": \"CCTV \\uaddc\\ubaa8\", \"type\": \"quantitative\"}, {\"field\": \"\\uc778\\uad6c_\\uaddc\\ubaa8_2020\", \"title\": \"\\uc778\\uad6c \\uaddc\\ubaa8\", \"type\": \"quantitative\"}], \"x\": {\"field\": \"\\uc778\\uad6c_\\uaddc\\ubaa8_2020\", \"scale\": {\"domain\": [100000, 700000], \"type\": \"linear\"}, \"title\": \"\\uc778\\uad6c \\uaddc\\ubaa8(\\ub2e8\\uc704:\\uba85)\", \"type\": \"quantitative\"}, \"y\": {\"field\": \"CCTV_\\uaddc\\ubaa8_2020\", \"scale\": {\"domain\": [0, 7000], \"type\": \"linear\"}, \"title\": \"CCTV \\uc124\\uce58 \\uaddc\\ubaa8[\\ub2e8\\uc704:\\ub300]\", \"type\": \"quantitative\"}}, \"height\": 500, \"title\": {\"text\": [\"\\uc790\\uce58\\uad6c\\ubcc4 \\uc778\\uad6c \\ub300\\ube44 CCTV \\uc124\\uce58 \\uaddc\\ubaa8\", \"(2015 \\ub300 2020\\ub144)\"], \"subtitle\": [\"- 2015\\ub144\\uc740 \\ud478\\ub978\\uc0c9, 2020\\ub144\\uc740 \\ube68\\uac04\\uc0c9 \\uc6d0\\uc73c\\ub85c \\ud45c\\uc2dc\", \"- \\uc6d0 \\ud06c\\uae30\\ub294 \\uc778\\uad6c \\ub300\\ube44 CCTV \\ube44\\uc728\", \"- \\uc9c1\\uc120 \\ub450\\uaed8\\uc640 \\uc0c9\\uc0c1\\uc740 2015\\ub144 \\ub300\\ube44 2020\\ub144 \\uc99d\\uac00\\uc728\"]}, \"transform\": [{\"calculate\": \"datum.CCTV_\\uaddc\\ubaa8_2020/datum.\\uc778\\uad6c_\\uaddc\\ubaa8_2020\", \"as\": \"rate\"}], \"width\": 600}, {\"mark\": {\"type\": \"line\", \"color\": \"red\", \"opacity\": 0.5}, \"encoding\": {\"order\": {\"field\": \"rate\", \"sort\": \"descending\", \"type\": \"quantitative\"}, \"size\": {\"field\": \"rate\", \"legend\": null, \"scale\": {\"range\": [10, 1000]}, \"type\": \"quantitative\"}, \"tooltip\": [{\"field\": \"\\uc790\\uce58\\uad6c\", \"type\": \"nominal\"}, {\"field\": \"rate\", \"format\": \".1%\", \"title\": \"CCTV \\ube44\\uc728\", \"type\": \"quantitative\"}, {\"field\": \"CCTV_\\uaddc\\ubaa8_2020\", \"title\": \"CCTV \\uaddc\\ubaa8\", \"type\": \"quantitative\"}, {\"field\": \"\\uc778\\uad6c_\\uaddc\\ubaa8_2020\", \"title\": \"\\uc778\\uad6c \\uaddc\\ubaa8\", \"type\": \"quantitative\"}], \"x\": {\"field\": \"\\uc778\\uad6c_\\uaddc\\ubaa8_2020\", \"scale\": {\"domain\": [100000, 700000], \"type\": \"linear\"}, \"title\": \"\\uc778\\uad6c \\uaddc\\ubaa8(\\ub2e8\\uc704:\\uba85)\", \"type\": \"quantitative\"}, \"y\": {\"field\": \"CCTV_\\uaddc\\ubaa8_2020\", \"scale\": {\"domain\": [0, 7000], \"type\": \"linear\"}, \"title\": \"CCTV \\uc124\\uce58 \\uaddc\\ubaa8[\\ub2e8\\uc704:\\ub300]\", \"type\": \"quantitative\"}}, \"height\": 500, \"title\": {\"text\": [\"\\uc790\\uce58\\uad6c\\ubcc4 \\uc778\\uad6c \\ub300\\ube44 CCTV \\uc124\\uce58 \\uaddc\\ubaa8\", \"(2015 \\ub300 2020\\ub144)\"], \"subtitle\": [\"- 2015\\ub144\\uc740 \\ud478\\ub978\\uc0c9, 2020\\ub144\\uc740 \\ube68\\uac04\\uc0c9 \\uc6d0\\uc73c\\ub85c \\ud45c\\uc2dc\", \"- \\uc6d0 \\ud06c\\uae30\\ub294 \\uc778\\uad6c \\ub300\\ube44 CCTV \\ube44\\uc728\", \"- \\uc9c1\\uc120 \\ub450\\uaed8\\uc640 \\uc0c9\\uc0c1\\uc740 2015\\ub144 \\ub300\\ube44 2020\\ub144 \\uc99d\\uac00\\uc728\"]}, \"transform\": [{\"calculate\": \"datum.CCTV_\\uaddc\\ubaa8_2020/datum.\\uc778\\uad6c_\\uaddc\\ubaa8_2020\", \"as\": \"rate\"}, {\"on\": \"\\uc778\\uad6c_\\uaddc\\ubaa8_2020\", \"regression\": \"CCTV_\\uaddc\\ubaa8_2020\"}], \"width\": 600}]}, {\"mark\": \"line\", \"encoding\": {\"color\": {\"field\": \"up_rate\", \"legend\": null, \"type\": \"temporal\"}, \"size\": {\"field\": \"up_rate\", \"legend\": null, \"type\": \"temporal\"}, \"tooltip\": [{\"field\": \"\\uc790\\uce58\\uad6c\", \"type\": \"nominal\"}, {\"field\": \"up_rate\", \"format\": \".1%\", \"title\": \"CCTV_\\uc99d\\uac00\\uc728\", \"type\": \"nominal\"}], \"x\": {\"field\": \"\\uc778\\uad6c_\\uaddc\\ubaa8_2015\", \"scale\": {\"domain\": [100000, 700000], \"type\": \"linear\"}, \"title\": \"\\uc778\\uad6c_\\uaddc\\ubaa8(\\ub2e8\\uc704:\\uba85)\", \"type\": \"quantitative\"}, \"x2\": {\"field\": \"\\uc778\\uad6c_\\uaddc\\ubaa8_2020\"}, \"y\": {\"field\": \"CCTV_\\uaddc\\ubaa8_2015\", \"scale\": {\"domain\": [0, 7000], \"type\": \"linear\"}, \"title\": \"CCTV\\uc124\\uce58[\\ub2e8\\uc704:\\ub300]\", \"type\": \"quantitative\"}, \"y2\": {\"field\": \"CCTV_\\uaddc\\ubaa8_2020\"}}, \"height\": 500, \"transform\": [{\"calculate\": \"(datum.CCTV_\\uaddc\\ubaa8_2020-datum.CCTV_\\uaddc\\ubaa8_2015)/datum.CCTV_\\uaddc\\ubaa8_2015\", \"as\": \"up_rate\"}], \"width\": 600}], \"data\": {\"name\": \"data-45ff08f1c85640db9e6eb2564c10a79f\"}, \"$schema\": \"https://vega.github.io/schema/vega-lite/v4.17.0.json\", \"datasets\": {\"data-45ff08f1c85640db9e6eb2564c10a79f\": [{\"no\": 6, \"id\": 1, \"\\uc790\\uce58\\uad6c\": \"\\uc885\\ub85c\\uad6c\", \"CCTV_\\uaddc\\ubaa8_2015\": 1175, \"CCTV_\\uaddc\\ubaa8_2020\": 1729, \"\\uc778\\uad6c_\\uaddc\\ubaa8_2015\": 163822, \"\\uc778\\uad6c_\\uaddc\\ubaa8_2020\": 158996}, {\"no\": 11, \"id\": 2, \"\\uc790\\uce58\\uad6c\": \"\\uc911\\uad6c\", \"CCTV_\\uaddc\\ubaa8_2015\": 654, \"CCTV_\\uaddc\\ubaa8_2020\": 2001, \"\\uc778\\uad6c_\\uaddc\\ubaa8_2015\": 134329, \"\\uc778\\uad6c_\\uaddc\\ubaa8_2020\": 134635}, {\"no\": 24, \"id\": 3, \"\\uc790\\uce58\\uad6c\": \"\\uc6a9\\uc0b0\\uad6c\", \"CCTV_\\uaddc\\ubaa8_2015\": 685, \"CCTV_\\uaddc\\ubaa8_2020\": 2383, \"\\uc778\\uad6c_\\uaddc\\ubaa8_2015\": 247909, \"\\uc778\\uad6c_\\uaddc\\ubaa8_2020\": 244645}, {\"no\": 20, \"id\": 4, \"\\uc790\\uce58\\uad6c\": \"\\uc131\\ub3d9\\uad6c\", \"CCTV_\\uaddc\\ubaa8_2015\": 1289, \"CCTV_\\uaddc\\ubaa8_2020\": 3515, \"\\uc778\\uad6c_\\uaddc\\ubaa8_2015\": 305065, \"\\uc778\\uad6c_\\uaddc\\ubaa8_2020\": 300505}, {\"no\": 13, \"id\": 5, \"\\uc790\\uce58\\uad6c\": \"\\uad11\\uc9c4\\uad6c\", \"CCTV_\\uaddc\\ubaa8_2015\": 477, \"CCTV_\\uaddc\\ubaa8_2020\": 2556, \"\\uc778\\uad6c_\\uaddc\\ubaa8_2015\": 375180, \"\\uc778\\uad6c_\\uaddc\\ubaa8_2020\": 360109}, {\"no\": 2, \"id\": 6, \"\\uc790\\uce58\\uad6c\": \"\\ub3d9\\ub300\\ubb38\\uad6c\", \"CCTV_\\uaddc\\ubaa8_2015\": 1436, \"CCTV_\\uaddc\\ubaa8_2020\": 2315, \"\\uc778\\uad6c_\\uaddc\\ubaa8_2015\": 373824, \"\\uc778\\uad6c_\\uaddc\\ubaa8_2020\": 357014}, {\"no\": 8, \"id\": 7, \"\\uc790\\uce58\\uad6c\": \"\\uc911\\ub791\\uad6c\", \"CCTV_\\uaddc\\ubaa8_2015\": 821, \"CCTV_\\uaddc\\ubaa8_2020\": 3285, \"\\uc778\\uad6c_\\uaddc\\ubaa8_2015\": 418620, \"\\uc778\\uad6c_\\uaddc\\ubaa8_2020\": 399562}, {\"no\": 17, \"id\": 8, \"\\uc790\\uce58\\uad6c\": \"\\uc131\\ubd81\\uad6c\", \"CCTV_\\uaddc\\ubaa8_2015\": 897, \"CCTV_\\uaddc\\ubaa8_2020\": 3754, \"\\uc778\\uad6c_\\uaddc\\ubaa8_2015\": 469560, \"\\uc778\\uad6c_\\uaddc\\ubaa8_2020\": 447056}, {\"no\": 7, \"id\": 9, \"\\uc790\\uce58\\uad6c\": \"\\uac15\\ubd81\\uad6c\", \"CCTV_\\uaddc\\ubaa8_2015\": 270, \"CCTV_\\uaddc\\ubaa8_2020\": 2462, \"\\uc778\\uad6c_\\uaddc\\ubaa8_2015\": 334426, \"\\uc778\\uad6c_\\uaddc\\ubaa8_2020\": 311569}, {\"no\": 0, \"id\": 10, \"\\uc790\\uce58\\uad6c\": \"\\ub3c4\\ubd09\\uad6c\", \"CCTV_\\uaddc\\ubaa8_2015\": 434, \"CCTV_\\uaddc\\ubaa8_2020\": 1356, \"\\uc778\\uad6c_\\uaddc\\ubaa8_2015\": 353241, \"\\uc778\\uad6c_\\uaddc\\ubaa8_2020\": 327361}, {\"no\": 18, \"id\": 11, \"\\uc790\\uce58\\uad6c\": \"\\ub178\\uc6d0\\uad6c\", \"CCTV_\\uaddc\\ubaa8_2015\": 909, \"CCTV_\\uaddc\\ubaa8_2020\": 2282, \"\\uc778\\uad6c_\\uaddc\\ubaa8_2015\": 578221, \"\\uc778\\uad6c_\\uaddc\\ubaa8_2020\": 527032}, {\"no\": 1, \"id\": 12, \"\\uc790\\uce58\\uad6c\": \"\\uc740\\ud3c9\\uad6c\", \"CCTV_\\uaddc\\ubaa8_2015\": 722, \"CCTV_\\uaddc\\ubaa8_2020\": 3660, \"\\uc778\\uad6c_\\uaddc\\ubaa8_2015\": 502578, \"\\uc778\\uad6c_\\uaddc\\ubaa8_2020\": 484043}, {\"no\": 21, \"id\": 13, \"\\uc790\\uce58\\uad6c\": \"\\uc11c\\ub300\\ubb38\\uad6c\", \"CCTV_\\uaddc\\ubaa8_2015\": 1235, \"CCTV_\\uaddc\\ubaa8_2020\": 2939, \"\\uc778\\uad6c_\\uaddc\\ubaa8_2015\": 323105, \"\\uc778\\uad6c_\\uaddc\\ubaa8_2020\": 322952}, {\"no\": 14, \"id\": 14, \"\\uc790\\uce58\\uad6c\": \"\\ub9c8\\ud3ec\\uad6c\", \"CCTV_\\uaddc\\ubaa8_2015\": 729, \"CCTV_\\uaddc\\ubaa8_2020\": 2401, \"\\uc778\\uad6c_\\uaddc\\ubaa8_2015\": 398351, \"\\uc778\\uad6c_\\uaddc\\ubaa8_2020\": 381858}, {\"no\": 22, \"id\": 15, \"\\uc790\\uce58\\uad6c\": \"\\uc591\\ucc9c\\uad6c\", \"CCTV_\\uaddc\\ubaa8_2015\": 2241, \"CCTV_\\uaddc\\ubaa8_2020\": 3307, \"\\uc778\\uad6c_\\uaddc\\ubaa8_2015\": 489010, \"\\uc778\\uad6c_\\uaddc\\ubaa8_2020\": 457781}, {\"no\": 10, \"id\": 16, \"\\uc790\\uce58\\uad6c\": \"\\uac15\\uc11c\\uad6c\", \"CCTV_\\uaddc\\ubaa8_2015\": 691, \"CCTV_\\uaddc\\ubaa8_2020\": 2437, \"\\uc778\\uad6c_\\uaddc\\ubaa8_2015\": 595691, \"\\uc778\\uad6c_\\uaddc\\ubaa8_2020\": 585901}, {\"no\": 5, \"id\": 17, \"\\uc790\\uce58\\uad6c\": \"\\uad6c\\ub85c\\uad6c\", \"CCTV_\\uaddc\\ubaa8_2015\": 1872, \"CCTV_\\uaddc\\ubaa8_2020\": 4075, \"\\uc778\\uad6c_\\uaddc\\ubaa8_2015\": 454604, \"\\uc778\\uad6c_\\uaddc\\ubaa8_2020\": 432488}, {\"no\": 4, \"id\": 18, \"\\uc790\\uce58\\uad6c\": \"\\uae08\\ucc9c\\uad6c\", \"CCTV_\\uaddc\\ubaa8_2015\": 619, \"CCTV_\\uaddc\\ubaa8_2020\": 2365, \"\\uc778\\uad6c_\\uaddc\\ubaa8_2015\": 256167, \"\\uc778\\uad6c_\\uaddc\\ubaa8_2020\": 247835}, {\"no\": 23, \"id\": 19, \"\\uc790\\uce58\\uad6c\": \"\\uc601\\ub4f1\\ud3ec\\uad6c\", \"CCTV_\\uaddc\\ubaa8_2015\": 1278, \"CCTV_\\uaddc\\ubaa8_2020\": 3773, \"\\uc778\\uad6c_\\uaddc\\ubaa8_2015\": 417811, \"\\uc778\\uad6c_\\uaddc\\ubaa8_2020\": 407367}, {\"no\": 3, \"id\": 20, \"\\uc790\\uce58\\uad6c\": \"\\ub3d9\\uc791\\uad6c\", \"CCTV_\\uaddc\\ubaa8_2015\": 993, \"CCTV_\\uaddc\\ubaa8_2020\": 2262, \"\\uc778\\uad6c_\\uaddc\\ubaa8_2015\": 412774, \"\\uc778\\uad6c_\\uaddc\\ubaa8_2020\": 401572}, {\"no\": 15, \"id\": 21, \"\\uc790\\uce58\\uad6c\": \"\\uad00\\uc545\\uad6c\", \"CCTV_\\uaddc\\ubaa8_2015\": 2004, \"CCTV_\\uaddc\\ubaa8_2020\": 4909, \"\\uc778\\uad6c_\\uaddc\\ubaa8_2015\": 529031, \"\\uc778\\uad6c_\\uaddc\\ubaa8_2020\": 509803}, {\"no\": 16, \"id\": 22, \"\\uc790\\uce58\\uad6c\": \"\\uc11c\\ucd08\\uad6c\", \"CCTV_\\uaddc\\ubaa8_2015\": 916, \"CCTV_\\uaddc\\ubaa8_2020\": 3730, \"\\uc778\\uad6c_\\uaddc\\ubaa8_2015\": 451258, \"\\uc778\\uad6c_\\uaddc\\ubaa8_2020\": 429025}, {\"no\": 9, \"id\": 23, \"\\uc790\\uce58\\uad6c\": \"\\uac15\\ub0a8\\uad6c\", \"CCTV_\\uaddc\\ubaa8_2015\": 1863, \"CCTV_\\uaddc\\ubaa8_2020\": 6645, \"\\uc778\\uad6c_\\uaddc\\ubaa8_2015\": 581760, \"\\uc778\\uad6c_\\uaddc\\ubaa8_2020\": 544055}, {\"no\": 19, \"id\": 24, \"\\uc790\\uce58\\uad6c\": \"\\uc1a1\\ud30c\\uad6c\", \"CCTV_\\uaddc\\ubaa8_2015\": 520, \"CCTV_\\uaddc\\ubaa8_2020\": 2743, \"\\uc778\\uad6c_\\uaddc\\ubaa8_2015\": 667480, \"\\uc778\\uad6c_\\uaddc\\ubaa8_2020\": 673926}, {\"no\": 12, \"id\": 25, \"\\uc790\\uce58\\uad6c\": \"\\uac15\\ub3d9\\uad6c\", \"CCTV_\\uaddc\\ubaa8_2015\": 725, \"CCTV_\\uaddc\\ubaa8_2020\": 2547, \"\\uc778\\uad6c_\\uaddc\\ubaa8_2015\": 463321, \"\\uc778\\uad6c_\\uaddc\\ubaa8_2020\": 463998}]}}, {\"mode\": \"vega-lite\"});\n",
       "</script>"
      ],
      "text/plain": [
       "alt.LayerChart(...)"
      ]
     },
     "execution_count": 9,
     "metadata": {},
     "output_type": "execute_result"
    }
   ],
   "source": [
    "# 시각화 결과 통합\n",
    "\n",
    "layer = alt.layer(bb_reg_2015,bb_reg_2020,move)\n",
    "layer"
   ]
  },
  {
   "cell_type": "markdown",
   "id": "94e8d893",
   "metadata": {},
   "source": [
    "- 버블 차트 시각화 결론"
   ]
  },
  {
   "cell_type": "markdown",
   "id": "78cebcf0",
   "metadata": {},
   "source": [
    " CCTV 설치 규모 차트에서 인구 규모와 CCTV 설치 규모 부분에서는 2015년에서 2020년으로 갈수록 인구 규모는 줄어드는 대신 설치 규모는 증가하는 추세를 파악할 수 있다. 이는 CCTV 설치 비율이 해가 갈수록 증가하였다는 결과를 도출해 낼 수 있다. 두 번째로 이동궤적 선에서 강북구의 궤적 선이 유독 굵은 데 이는 강북구의 인구가 해마다 감소하는 동시에 자연 경관으로 인해 제한되었던 강북구의 개발이 일부 시작되면서 cctv설치율이 증가하였기 때문이다. 이와 달리 송파구에서는 다른 추세를 보인다. 이는 송파구의 지속적인 아파트 등의 개발로 송파구의 인구가 증가하였기 때문이라고 할 수 있다."
   ]
  },
  {
   "cell_type": "markdown",
   "id": "2d334ad1",
   "metadata": {},
   "source": [
    "## 4. 단계구분도 시각화\n",
    "\n",
    "### 4.1 자치구 위치 시각화"
   ]
  },
  {
   "cell_type": "code",
   "execution_count": 10,
   "id": "7413c1c3",
   "metadata": {
    "scrolled": true
   },
   "outputs": [
    {
     "data": {
      "text/html": [
       "\n",
       "<div id=\"altair-viz-30a6ee6ab13c41ef8ea623746df04287\"></div>\n",
       "<script type=\"text/javascript\">\n",
       "  var VEGA_DEBUG = (typeof VEGA_DEBUG == \"undefined\") ? {} : VEGA_DEBUG;\n",
       "  (function(spec, embedOpt){\n",
       "    let outputDiv = document.currentScript.previousElementSibling;\n",
       "    if (outputDiv.id !== \"altair-viz-30a6ee6ab13c41ef8ea623746df04287\") {\n",
       "      outputDiv = document.getElementById(\"altair-viz-30a6ee6ab13c41ef8ea623746df04287\");\n",
       "    }\n",
       "    const paths = {\n",
       "      \"vega\": \"https://cdn.jsdelivr.net/npm//vega@5?noext\",\n",
       "      \"vega-lib\": \"https://cdn.jsdelivr.net/npm//vega-lib?noext\",\n",
       "      \"vega-lite\": \"https://cdn.jsdelivr.net/npm//vega-lite@4.17.0?noext\",\n",
       "      \"vega-embed\": \"https://cdn.jsdelivr.net/npm//vega-embed@6?noext\",\n",
       "    };\n",
       "\n",
       "    function maybeLoadScript(lib, version) {\n",
       "      var key = `${lib.replace(\"-\", \"\")}_version`;\n",
       "      return (VEGA_DEBUG[key] == version) ?\n",
       "        Promise.resolve(paths[lib]) :\n",
       "        new Promise(function(resolve, reject) {\n",
       "          var s = document.createElement('script');\n",
       "          document.getElementsByTagName(\"head\")[0].appendChild(s);\n",
       "          s.async = true;\n",
       "          s.onload = () => {\n",
       "            VEGA_DEBUG[key] = version;\n",
       "            return resolve(paths[lib]);\n",
       "          };\n",
       "          s.onerror = () => reject(`Error loading script: ${paths[lib]}`);\n",
       "          s.src = paths[lib];\n",
       "        });\n",
       "    }\n",
       "\n",
       "    function showError(err) {\n",
       "      outputDiv.innerHTML = `<div class=\"error\" style=\"color:red;\">${err}</div>`;\n",
       "      throw err;\n",
       "    }\n",
       "\n",
       "    function displayChart(vegaEmbed) {\n",
       "      vegaEmbed(outputDiv, spec, embedOpt)\n",
       "        .catch(err => showError(`Javascript Error: ${err.message}<br>This usually means there's a typo in your chart specification. See the javascript console for the full traceback.`));\n",
       "    }\n",
       "\n",
       "    if(typeof define === \"function\" && define.amd) {\n",
       "      requirejs.config({paths});\n",
       "      require([\"vega-embed\"], displayChart, err => showError(`Error loading script: ${err.message}`));\n",
       "    } else {\n",
       "      maybeLoadScript(\"vega\", \"5\")\n",
       "        .then(() => maybeLoadScript(\"vega-lite\", \"4.17.0\"))\n",
       "        .then(() => maybeLoadScript(\"vega-embed\", \"6\"))\n",
       "        .catch(showError)\n",
       "        .then(() => displayChart(vegaEmbed));\n",
       "    }\n",
       "  })({\"config\": {\"view\": {\"continuousWidth\": 400, \"continuousHeight\": 300}}, \"data\": {\"name\": \"data-d51d564e85e5c2ac393a6a28d0ca2243\"}, \"mark\": \"circle\", \"encoding\": {\"latitude\": {\"field\": \"\\uc704\\ub3c4\", \"type\": \"quantitative\"}, \"longitude\": {\"field\": \"\\uacbd\\ub3c4\", \"type\": \"quantitative\"}, \"size\": {\"value\": 50}, \"tooltip\": {\"field\": \"\\uc790\\uce58\\uad6c\\uccad\", \"type\": \"nominal\"}}, \"height\": 300, \"width\": 400, \"$schema\": \"https://vega.github.io/schema/vega-lite/v4.17.0.json\", \"datasets\": {\"data-d51d564e85e5c2ac393a6a28d0ca2243\": [{\"\\uc790\\uce58\\uad6c\": \"\\uc885\\ub85c\\uad6c\", \"\\uc790\\uce58\\uad6c\\uccad\": \"\\uc885\\ub85c\\uad6c\\uccad\", \"\\uc704\\ub3c4\": 37.5727864, \"\\uacbd\\ub3c4\": 126.9791778, \"\\uc8fc\\uc18c\": \"\\ub300\\ud55c\\ubbfc\\uad6d \\uc11c\\uc6b8\\ud2b9\\ubcc4\\uc2dc \\uc885\\ub85c\\uad6c \\uc218\\uc1a1\\ub3d9 \\uc0bc\\ubd09\\ub85c 43\"}, {\"\\uc790\\uce58\\uad6c\": \"\\uc911\\uad6c\", \"\\uc790\\uce58\\uad6c\\uccad\": \"\\uc911\\uad6c\\uccad\", \"\\uc704\\ub3c4\": 37.5637584, \"\\uacbd\\ub3c4\": 126.9975517, \"\\uc8fc\\uc18c\": \"\\ub300\\ud55c\\ubbfc\\uad6d \\uc11c\\uc6b8\\ud2b9\\ubcc4\\uc2dc \\uc911\\uad6c \\uc608\\uad00\\ub3d9 \\ucc3d\\uacbd\\uad81\\ub85c 17\"}, {\"\\uc790\\uce58\\uad6c\": \"\\uc6a9\\uc0b0\\uad6c\", \"\\uc790\\uce58\\uad6c\\uccad\": \"\\uc6a9\\uc0b0\\uad6c\\uccad\", \"\\uc704\\ub3c4\": 37.5325896, \"\\uacbd\\ub3c4\": 126.9900429, \"\\uc8fc\\uc18c\": \"\\ub300\\ud55c\\ubbfc\\uad6d \\uc11c\\uc6b8\\ud2b9\\ubcc4\\uc2dc \\uc6a9\\uc0b0\\uad6c \\uc774\\ud0dc\\uc6d0\\ub3d9 \\ub179\\uc0ac\\ud3c9\\ub300\\ub85c 150\"}, {\"\\uc790\\uce58\\uad6c\": \"\\uc131\\ub3d9\\uad6c\", \"\\uc790\\uce58\\uad6c\\uccad\": \"\\uc131\\ub3d9\\uad6c\\uccad\", \"\\uc704\\ub3c4\": 37.5630725, \"\\uacbd\\ub3c4\": 127.0366688, \"\\uc8fc\\uc18c\": \"\\ub300\\ud55c\\ubbfc\\uad6d \\uc11c\\uc6b8\\ud2b9\\ubcc4\\uc2dc \\uc131\\ub3d9\\uad6c \\ud589\\ub2f9\\ub3d9 \\uace0\\uc0b0\\uc790\\ub85c 270\"}, {\"\\uc790\\uce58\\uad6c\": \"\\uad11\\uc9c4\\uad6c\", \"\\uc790\\uce58\\uad6c\\uccad\": \"\\uad11\\uc9c4\\uad6c\\uccad\", \"\\uc704\\ub3c4\": 37.5385333, \"\\uacbd\\ub3c4\": 127.0823772, \"\\uc8fc\\uc18c\": \"\\ub300\\ud55c\\ubbfc\\uad6d \\uc11c\\uc6b8\\ud2b9\\ubcc4\\uc2dc \\uad11\\uc9c4\\uad6c \\uc790\\uc5911\\ub3d9 \\uc790\\uc591\\ub85c 117\"}, {\"\\uc790\\uce58\\uad6c\": \"\\ub3d9\\ub300\\ubb38\\uad6c\", \"\\uc790\\uce58\\uad6c\\uccad\": \"\\ub3d9\\ub300\\ubb38\\uad6c\\uccad\", \"\\uc704\\ub3c4\": 37.5744155, \"\\uacbd\\ub3c4\": 127.0397427, \"\\uc8fc\\uc18c\": \"\\ub300\\ud55c\\ubbfc\\uad6d \\uc11c\\uc6b8\\ud2b9\\ubcc4\\uc2dc \\ub3d9\\ub300\\ubb38\\uad6c \\uc6a9\\ub450\\ub3d9 \\ucc9c\\ud638\\ub300\\ub85c 145\"}, {\"\\uc790\\uce58\\uad6c\": \"\\uc911\\ub791\\uad6c\", \"\\uc790\\uce58\\uad6c\\uccad\": \"\\uc911\\ub791\\uad6c\\uccad\", \"\\uc704\\ub3c4\": 37.60656, \"\\uacbd\\ub3c4\": 127.092624, \"\\uc8fc\\uc18c\": \"\\ub300\\ud55c\\ubbfc\\uad6d \\uc11c\\uc6b8\\ud2b9\\ubcc4\\uc2dc \\uc911\\ub791\\uad6c \\uc2e0\\ub0b4\\ub3d9 662\"}, {\"\\uc790\\uce58\\uad6c\": \"\\uc131\\ubd81\\uad6c\", \"\\uc790\\uce58\\uad6c\\uccad\": \"\\uc131\\ubd81\\uad6c\\uccad\", \"\\uc704\\ub3c4\": 37.589366, \"\\uacbd\\ub3c4\": 127.016743, \"\\uc8fc\\uc18c\": \"\\ub300\\ud55c\\ubbfc\\uad6d \\uc11c\\uc6b8\\ud2b9\\ubcc4\\uc2dc \\uc131\\ubd81\\uad6c \\uc0bc\\uc120\\ub3d9 \\ubcf4\\ubb38\\ub85c 168\"}, {\"\\uc790\\uce58\\uad6c\": \"\\uac15\\ubd81\\uad6c\", \"\\uc790\\uce58\\uad6c\\uccad\": \"\\uac15\\ubd81\\uad6c\\uccad\", \"\\uc704\\ub3c4\": 37.6397767, \"\\uacbd\\ub3c4\": 127.0255184, \"\\uc8fc\\uc18c\": \"\\ub300\\ud55c\\ubbfc\\uad6d \\uc11c\\uc6b8\\ud2b9\\ubcc4\\uc2dc \\uac15\\ubd81\\uad6c \\uc218\\uc720\\ub3d9 \\ub3c4\\ubd09\\ub85c89\\uae38 13\"}, {\"\\uc790\\uce58\\uad6c\": \"\\ub3c4\\ubd09\\uad6c\", \"\\uc790\\uce58\\uad6c\\uccad\": \"\\ub3c4\\ubd09\\uad6c\\uccad\", \"\\uc704\\ub3c4\": 37.6687735, \"\\uacbd\\ub3c4\": 127.047071, \"\\uc8fc\\uc18c\": \"\\ub300\\ud55c\\ubbfc\\uad6d \\uc11c\\uc6b8\\ud2b9\\ubcc4\\uc2dc \\ub3c4\\ubd09\\uad6c \\ubc29\\ud559\\ub3d9 \\ub9c8\\ub4e4\\ub85c 656\"}, {\"\\uc790\\uce58\\uad6c\": \"\\ub178\\uc6d0\\uad6c\", \"\\uc790\\uce58\\uad6c\\uccad\": \"\\ub178\\uc6d0\\uad6c\\uccad\", \"\\uc704\\ub3c4\": 37.6540471, \"\\uacbd\\ub3c4\": 127.0563372, \"\\uc8fc\\uc18c\": \"\\ub300\\ud55c\\ubbfc\\uad6d \\uc11c\\uc6b8\\ud2b9\\ubcc4\\uc2dc \\ub178\\uc6d0\\uad6c \\uc0c1\\uacc46.7\\ub3d9 \\ub178\\ud574\\ub85c 437\"}, {\"\\uc790\\uce58\\uad6c\": \"\\uc740\\ud3c9\\uad6c\", \"\\uc790\\uce58\\uad6c\\uccad\": \"\\uc740\\ud3c9\\uad6c\\uccad\", \"\\uc704\\ub3c4\": 37.6027496, \"\\uacbd\\ub3c4\": 126.9292386, \"\\uc8fc\\uc18c\": \"\\ub300\\ud55c\\ubbfc\\uad6d \\uc11c\\uc6b8\\ud2b9\\ubcc4\\uc2dc \\uc740\\ud3c9\\uad6c \\ub179\\ubc88\\ub3d9 \\uc740\\ud3c9\\ub85c 195\"}, {\"\\uc790\\uce58\\uad6c\": \"\\uc11c\\ub300\\ubb38\\uad6c\", \"\\uc790\\uce58\\uad6c\\uccad\": \"\\uc11c\\ub300\\ubb38\\uad6c\\uccad\", \"\\uc704\\ub3c4\": 37.5791728, \"\\uacbd\\ub3c4\": 126.9367815, \"\\uc8fc\\uc18c\": \"\\ub300\\ud55c\\ubbfc\\uad6d \\uc11c\\uc6b8\\ud2b9\\ubcc4\\uc2dc \\uc11c\\ub300\\ubb38\\uad6c \\uc5f0\\ud76c\\ub3d9 \\uc5f0\\ud76c\\ub85c 248\"}, {\"\\uc790\\uce58\\uad6c\": \"\\ub9c8\\ud3ec\\uad6c\", \"\\uc790\\uce58\\uad6c\\uccad\": \"\\ub9c8\\ud3ec\\uad6c\\uccad\", \"\\uc704\\ub3c4\": 37.5662001, \"\\uacbd\\ub3c4\": 126.9016437, \"\\uc8fc\\uc18c\": \"\\ub300\\ud55c\\ubbfc\\uad6d \\uc11c\\uc6b8\\ud2b9\\ubcc4\\uc2dc \\ub9c8\\ud3ec\\uad6c \\uc131\\uc0b02\\ub3d9 \\uc6d4\\ub4dc\\ucef5\\ub85c 212\"}, {\"\\uc790\\uce58\\uad6c\": \"\\uc591\\ucc9c\\uad6c\", \"\\uc790\\uce58\\uad6c\\uccad\": \"\\uc591\\ucc9c\\uad6c\\uccad\", \"\\uc704\\ub3c4\": 37.5169508, \"\\uacbd\\ub3c4\": 126.8665644, \"\\uc8fc\\uc18c\": \"\\ub300\\ud55c\\ubbfc\\uad6d \\uc11c\\uc6b8\\ud2b9\\ubcc4\\uc2dc \\uc591\\ucc9c\\uad6c \\uc2e0\\uc8156\\ub3d9 \\ubaa9\\ub3d9\\ub3d9\\ub85c 105\"}, {\"\\uc790\\uce58\\uad6c\": \"\\uac15\\uc11c\\uad6c\", \"\\uc790\\uce58\\uad6c\\uccad\": \"\\uac15\\uc11c\\uad6c\\uccad\", \"\\uc704\\ub3c4\": 37.5509103, \"\\uacbd\\ub3c4\": 126.8495742, \"\\uc8fc\\uc18c\": \"\\ub300\\ud55c\\ubbfc\\uad6d \\uc11c\\uc6b8\\ud2b9\\ubcc4\\uc2dc \\uac15\\uc11c\\uad6c \\ud654\\uace1\\ub3d9 \\ud654\\uace1\\ub85c 302\"}, {\"\\uc790\\uce58\\uad6c\": \"\\uad6c\\ub85c\\uad6c\", \"\\uc790\\uce58\\uad6c\\uccad\": \"\\uad6c\\ub85c\\uad6c\\uccad\", \"\\uc704\\ub3c4\": 37.4954703, \"\\uacbd\\ub3c4\": 126.8876391, \"\\uc8fc\\uc18c\": \"\\ub300\\ud55c\\ubbfc\\uad6d \\uc11c\\uc6b8\\ud2b9\\ubcc4\\uc2dc \\uad6c\\ub85c\\uad6c \\uad6c\\ub85c\\ub3d9 \\uac00\\ub9c8\\uc0b0\\ub85c 245\"}, {\"\\uc790\\uce58\\uad6c\": \"\\uae08\\ucc9c\\uad6c\", \"\\uc790\\uce58\\uad6c\\uccad\": \"\\uae08\\ucc9c\\uad6c\\uccad\", \"\\uc704\\ub3c4\": 37.4518527, \"\\uacbd\\ub3c4\": 126.9020358, \"\\uc8fc\\uc18c\": \"\\ub300\\ud55c\\ubbfc\\uad6d \\uc11c\\uc6b8\\ud2b9\\ubcc4\\uc2dc \\uae08\\ucc9c\\uad6c\"}, {\"\\uc790\\uce58\\uad6c\": \"\\uc601\\ub4f1\\ud3ec\\uad6c\", \"\\uc790\\uce58\\uad6c\\uccad\": \"\\uc601\\ub4f1\\ud3ec\\uad6c\\uccad\", \"\\uc704\\ub3c4\": 37.526344, \"\\uacbd\\ub3c4\": 126.896256, \"\\uc8fc\\uc18c\": \"\\ub300\\ud55c\\ubbfc\\uad6d \\uc11c\\uc6b8\\ud2b9\\ubcc4\\uc2dc \\uc601\\ub4f1\\ud3ec\\uad6c \\ub2f9\\uc0b0\\ub3d93\\uac00 \\ub2f9\\uc0b0\\ub85c 123\"}, {\"\\uc790\\uce58\\uad6c\": \"\\ub3d9\\uc791\\uad6c\", \"\\uc790\\uce58\\uad6c\\uccad\": \"\\ub3d9\\uc791\\uad6c\\uccad\", \"\\uc704\\ub3c4\": 37.5124298, \"\\uacbd\\ub3c4\": 126.9397997, \"\\uc8fc\\uc18c\": \"\\ub300\\ud55c\\ubbfc\\uad6d \\uc11c\\uc6b8\\ud2b9\\ubcc4\\uc2dc \\ub3d9\\uc791\\uad6c \\ub178\\ub7c9\\uc9c42\\ub3d9 \\uc7a5\\uc2b9\\ubc30\\uae30\\ub85c 161\"}, {\"\\uc790\\uce58\\uad6c\": \"\\uad00\\uc545\\uad6c\", \"\\uc790\\uce58\\uad6c\\uccad\": \"\\uad00\\uc545\\uad6c\\uccad\", \"\\uc704\\ub3c4\": 37.4781285, \"\\uacbd\\ub3c4\": 126.9515024, \"\\uc8fc\\uc18c\": \"\\ub300\\ud55c\\ubbfc\\uad6d \\uc11c\\uc6b8\\ud2b9\\ubcc4\\uc2dc \\uad00\\uc545\\uad6c \\uccad\\ub8e1\\ub3d9 \\uad00\\uc545\\ub85c 145\"}, {\"\\uc790\\uce58\\uad6c\": \"\\uc11c\\ucd08\\uad6c\", \"\\uc790\\uce58\\uad6c\\uccad\": \"\\uc11c\\ucd08\\uad6c\\uccad\", \"\\uc704\\ub3c4\": 37.483574, \"\\uacbd\\ub3c4\": 127.032661, \"\\uc8fc\\uc18c\": \"\\ub300\\ud55c\\ubbfc\\uad6d \\uc11c\\uc6b8\\ud2b9\\ubcc4\\uc2dc \\uc11c\\ucd08\\uad6c \\uc11c\\ucd082\\ub3d9 \\ub0a8\\ubd80\\uc21c\\ud658\\ub85c 2584\"}, {\"\\uc790\\uce58\\uad6c\": \"\\uac15\\ub0a8\\uad6c\", \"\\uc790\\uce58\\uad6c\\uccad\": \"\\uac15\\ub0a8\\uad6c\\uccad\", \"\\uc704\\ub3c4\": 37.5172363, \"\\uacbd\\ub3c4\": 127.0473248, \"\\uc8fc\\uc18c\": \"\\ub300\\ud55c\\ubbfc\\uad6d \\uc11c\\uc6b8\\ud2b9\\ubcc4\\uc2dc \\uac15\\ub0a8\\uad6c 426\"}, {\"\\uc790\\uce58\\uad6c\": \"\\uc1a1\\ud30c\\uad6c\", \"\\uc790\\uce58\\uad6c\\uccad\": \"\\uc1a1\\ud30c\\uad6c\\uccad\", \"\\uc704\\ub3c4\": 37.5144161, \"\\uacbd\\ub3c4\": 127.1060657, \"\\uc8fc\\uc18c\": \"\\ub300\\ud55c\\ubbfc\\uad6d \\uc11c\\uc6b8\\ud2b9\\ubcc4\\uc2dc \\uc1a1\\ud30c\\uad6c \\uc2e0\\ucc9c\\ub3d9 \\uc62c\\ub9bc\\ud53d\\ub85c 326\"}, {\"\\uc790\\uce58\\uad6c\": \"\\uac15\\ub3d9\\uad6c\", \"\\uc790\\uce58\\uad6c\\uccad\": \"\\uac15\\ub3d9\\uad6c\\uccad\", \"\\uc704\\ub3c4\": 37.5302554, \"\\uacbd\\ub3c4\": 127.1237961, \"\\uc8fc\\uc18c\": \"\\ub300\\ud55c\\ubbfc\\uad6d \\uc11c\\uc6b8\\ud2b9\\ubcc4\\uc2dc \\uac15\\ub3d9\\uad6c \\uc131\\ub0b4\\ub3d9 \\uc131\\ub0b4\\ub85c 25\"}]}}, {\"mode\": \"vega-lite\"});\n",
       "</script>"
      ],
      "text/plain": [
       "alt.Chart(...)"
      ]
     },
     "execution_count": 10,
     "metadata": {},
     "output_type": "execute_result"
    }
   ],
   "source": [
    "# 자치구 위치 시각화\n",
    "# points = alt.layer(\n",
    "#             alt.Chart(                                                       #뒤에 지도 배경도 함께\n",
    "#             alt.topo_feature(seoul_url, 'seoul_municipalities_geo')\n",
    "#             ).mark_geoshape(\n",
    "#                 fill='#ddd',stroke='#aaa', strokeWidth=0.25\n",
    "#             ),\n",
    "#             alt.Chart(\n",
    "#                 offices\n",
    "#             ).mark_circle(\n",
    "#             ).encode(\n",
    "#                 latitude='위도:Q',\n",
    "#                 longitude='경도:Q',\n",
    "#                 tooltip='자치구청:N',\n",
    "#                 size=alt.value(50)\n",
    "#             )\n",
    "#     ).properties(\n",
    "#     width=400,\n",
    "#     height=300\n",
    "# )\n",
    "\n",
    "points=alt.Chart(  #위치를 점의로만 표시\n",
    "            offices\n",
    ").mark_circle(\n",
    "            ).encode(\n",
    "                latitude='위도:Q',\n",
    "                longitude='경도:Q',\n",
    "                tooltip='자치구청:N',\n",
    "                size=alt.value(50)\n",
    "            ).properties(\n",
    "    width=400,\n",
    "    height=300\n",
    ")\n",
    "points"
   ]
  },
  {
   "cell_type": "markdown",
   "id": "294b6007",
   "metadata": {},
   "source": [
    "### 4.2 단계구분도를 반환하는 함수 정의"
   ]
  },
  {
   "cell_type": "code",
   "execution_count": 11,
   "id": "9095f718",
   "metadata": {},
   "outputs": [],
   "source": [
    "# 자치구 cctv 비율 단계구분도 \n",
    "\n",
    "def map(year):\n",
    "    map= alt.Chart(seoul).mark_geoshape(\n",
    "        stroke='#aaa', strokeWidth=0.25\n",
    "    ).transform_lookup(\n",
    "        lookup='properties.ESRI_PK',\n",
    "        from_=alt.LookupData(data=df, key='no', fields=['자치구','CCTV_규모_'+year,'인구_규모_'+year])\n",
    "    ).transform_calculate(\n",
    "        rate='datum.CCTV_규모_'+year+'/datum.인구_규모_'+year\n",
    "    ).encode(\n",
    "        alt.Color('rate:Q',legend=None),\n",
    "        tooltip=[\n",
    "            '자치구:N',\n",
    "            alt.Tooltip('rate:N',format='.2%',title='CCTV 비율'),\n",
    "            alt.Tooltip('CCTV_규모_'+year+':Q',format=',.0f',title='CCTV 규모'),\n",
    "            alt.Tooltip('인구_규모_'+year+':Q',format=',.0f',title='인구 규모')\n",
    "        ]\n",
    "    ).properties(\n",
    "        title={\n",
    "                \"text\":[\"CCTV 설치 비율\"],\n",
    "                \"subtitle\":[year+\"년\"]\n",
    "            },\n",
    "        width=400,\n",
    "        height=300\n",
    "    )\n",
    "    \n",
    "    \n",
    "    return map"
   ]
  },
  {
   "cell_type": "markdown",
   "id": "d94128fd",
   "metadata": {},
   "source": [
    "### 4.3 단계구분도 종합"
   ]
  },
  {
   "cell_type": "code",
   "execution_count": 12,
   "id": "0af92f06",
   "metadata": {
    "scrolled": false
   },
   "outputs": [
    {
     "data": {
      "text/html": [
       "\n",
       "<div id=\"altair-viz-a264bdeeba4842a0acd3a6dd8f8c2828\"></div>\n",
       "<script type=\"text/javascript\">\n",
       "  var VEGA_DEBUG = (typeof VEGA_DEBUG == \"undefined\") ? {} : VEGA_DEBUG;\n",
       "  (function(spec, embedOpt){\n",
       "    let outputDiv = document.currentScript.previousElementSibling;\n",
       "    if (outputDiv.id !== \"altair-viz-a264bdeeba4842a0acd3a6dd8f8c2828\") {\n",
       "      outputDiv = document.getElementById(\"altair-viz-a264bdeeba4842a0acd3a6dd8f8c2828\");\n",
       "    }\n",
       "    const paths = {\n",
       "      \"vega\": \"https://cdn.jsdelivr.net/npm//vega@5?noext\",\n",
       "      \"vega-lib\": \"https://cdn.jsdelivr.net/npm//vega-lib?noext\",\n",
       "      \"vega-lite\": \"https://cdn.jsdelivr.net/npm//vega-lite@4.17.0?noext\",\n",
       "      \"vega-embed\": \"https://cdn.jsdelivr.net/npm//vega-embed@6?noext\",\n",
       "    };\n",
       "\n",
       "    function maybeLoadScript(lib, version) {\n",
       "      var key = `${lib.replace(\"-\", \"\")}_version`;\n",
       "      return (VEGA_DEBUG[key] == version) ?\n",
       "        Promise.resolve(paths[lib]) :\n",
       "        new Promise(function(resolve, reject) {\n",
       "          var s = document.createElement('script');\n",
       "          document.getElementsByTagName(\"head\")[0].appendChild(s);\n",
       "          s.async = true;\n",
       "          s.onload = () => {\n",
       "            VEGA_DEBUG[key] = version;\n",
       "            return resolve(paths[lib]);\n",
       "          };\n",
       "          s.onerror = () => reject(`Error loading script: ${paths[lib]}`);\n",
       "          s.src = paths[lib];\n",
       "        });\n",
       "    }\n",
       "\n",
       "    function showError(err) {\n",
       "      outputDiv.innerHTML = `<div class=\"error\" style=\"color:red;\">${err}</div>`;\n",
       "      throw err;\n",
       "    }\n",
       "\n",
       "    function displayChart(vegaEmbed) {\n",
       "      vegaEmbed(outputDiv, spec, embedOpt)\n",
       "        .catch(err => showError(`Javascript Error: ${err.message}<br>This usually means there's a typo in your chart specification. See the javascript console for the full traceback.`));\n",
       "    }\n",
       "\n",
       "    if(typeof define === \"function\" && define.amd) {\n",
       "      requirejs.config({paths});\n",
       "      require([\"vega-embed\"], displayChart, err => showError(`Error loading script: ${err.message}`));\n",
       "    } else {\n",
       "      maybeLoadScript(\"vega\", \"5\")\n",
       "        .then(() => maybeLoadScript(\"vega-lite\", \"4.17.0\"))\n",
       "        .then(() => maybeLoadScript(\"vega-embed\", \"6\"))\n",
       "        .catch(showError)\n",
       "        .then(() => displayChart(vegaEmbed));\n",
       "    }\n",
       "  })({\"config\": {\"view\": {\"continuousWidth\": 400, \"continuousHeight\": 300, \"stroke\": null}}, \"hconcat\": [{\"layer\": [{\"data\": {\"url\": \"https://raw.githubusercontent.com/southkorea/seoul-maps/master/juso/2015/json/seoul_municipalities_topo.json\", \"format\": {\"feature\": \"seoul_municipalities_geo\", \"type\": \"topojson\"}}, \"mark\": {\"type\": \"geoshape\", \"stroke\": \"#aaa\", \"strokeWidth\": 0.25}, \"encoding\": {\"color\": {\"field\": \"rate\", \"legend\": null, \"type\": \"quantitative\"}, \"tooltip\": [{\"field\": \"\\uc790\\uce58\\uad6c\", \"type\": \"nominal\"}, {\"field\": \"rate\", \"format\": \".2%\", \"title\": \"CCTV \\ube44\\uc728\", \"type\": \"nominal\"}, {\"field\": \"CCTV_\\uaddc\\ubaa8_2015\", \"format\": \",.0f\", \"title\": \"CCTV \\uaddc\\ubaa8\", \"type\": \"quantitative\"}, {\"field\": \"\\uc778\\uad6c_\\uaddc\\ubaa8_2015\", \"format\": \",.0f\", \"title\": \"\\uc778\\uad6c \\uaddc\\ubaa8\", \"type\": \"quantitative\"}]}, \"height\": 300, \"title\": {\"text\": [\"CCTV \\uc124\\uce58 \\ube44\\uc728\"], \"subtitle\": [\"2015\\ub144\"]}, \"transform\": [{\"lookup\": \"properties.ESRI_PK\", \"from\": {\"data\": {\"name\": \"data-45ff08f1c85640db9e6eb2564c10a79f\"}, \"key\": \"no\", \"fields\": [\"\\uc790\\uce58\\uad6c\", \"CCTV_\\uaddc\\ubaa8_2015\", \"\\uc778\\uad6c_\\uaddc\\ubaa8_2015\"]}}, {\"calculate\": \"datum.CCTV_\\uaddc\\ubaa8_2015/datum.\\uc778\\uad6c_\\uaddc\\ubaa8_2015\", \"as\": \"rate\"}], \"width\": 400}, {\"data\": {\"name\": \"data-d51d564e85e5c2ac393a6a28d0ca2243\"}, \"mark\": \"circle\", \"encoding\": {\"latitude\": {\"field\": \"\\uc704\\ub3c4\", \"type\": \"quantitative\"}, \"longitude\": {\"field\": \"\\uacbd\\ub3c4\", \"type\": \"quantitative\"}, \"size\": {\"value\": 50}, \"tooltip\": {\"field\": \"\\uc790\\uce58\\uad6c\\uccad\", \"type\": \"nominal\"}}, \"height\": 300, \"width\": 400}]}, {\"layer\": [{\"data\": {\"url\": \"https://raw.githubusercontent.com/southkorea/seoul-maps/master/juso/2015/json/seoul_municipalities_topo.json\", \"format\": {\"feature\": \"seoul_municipalities_geo\", \"type\": \"topojson\"}}, \"mark\": {\"type\": \"geoshape\", \"stroke\": \"#aaa\", \"strokeWidth\": 0.25}, \"encoding\": {\"color\": {\"field\": \"rate\", \"legend\": null, \"type\": \"quantitative\"}, \"tooltip\": [{\"field\": \"\\uc790\\uce58\\uad6c\", \"type\": \"nominal\"}, {\"field\": \"rate\", \"format\": \".2%\", \"title\": \"CCTV \\ube44\\uc728\", \"type\": \"nominal\"}, {\"field\": \"CCTV_\\uaddc\\ubaa8_2020\", \"format\": \",.0f\", \"title\": \"CCTV \\uaddc\\ubaa8\", \"type\": \"quantitative\"}, {\"field\": \"\\uc778\\uad6c_\\uaddc\\ubaa8_2020\", \"format\": \",.0f\", \"title\": \"\\uc778\\uad6c \\uaddc\\ubaa8\", \"type\": \"quantitative\"}]}, \"height\": 300, \"title\": {\"text\": [\"CCTV \\uc124\\uce58 \\ube44\\uc728\"], \"subtitle\": [\"2020\\ub144\"]}, \"transform\": [{\"lookup\": \"properties.ESRI_PK\", \"from\": {\"data\": {\"name\": \"data-45ff08f1c85640db9e6eb2564c10a79f\"}, \"key\": \"no\", \"fields\": [\"\\uc790\\uce58\\uad6c\", \"CCTV_\\uaddc\\ubaa8_2020\", \"\\uc778\\uad6c_\\uaddc\\ubaa8_2020\"]}}, {\"calculate\": \"datum.CCTV_\\uaddc\\ubaa8_2020/datum.\\uc778\\uad6c_\\uaddc\\ubaa8_2020\", \"as\": \"rate\"}], \"width\": 400}, {\"data\": {\"name\": \"data-d51d564e85e5c2ac393a6a28d0ca2243\"}, \"mark\": \"circle\", \"encoding\": {\"latitude\": {\"field\": \"\\uc704\\ub3c4\", \"type\": \"quantitative\"}, \"longitude\": {\"field\": \"\\uacbd\\ub3c4\", \"type\": \"quantitative\"}, \"size\": {\"value\": 50}, \"tooltip\": {\"field\": \"\\uc790\\uce58\\uad6c\\uccad\", \"type\": \"nominal\"}}, \"height\": 300, \"width\": 400}]}], \"$schema\": \"https://vega.github.io/schema/vega-lite/v4.17.0.json\", \"datasets\": {\"data-45ff08f1c85640db9e6eb2564c10a79f\": [{\"no\": 6, \"id\": 1, \"\\uc790\\uce58\\uad6c\": \"\\uc885\\ub85c\\uad6c\", \"CCTV_\\uaddc\\ubaa8_2015\": 1175, \"CCTV_\\uaddc\\ubaa8_2020\": 1729, \"\\uc778\\uad6c_\\uaddc\\ubaa8_2015\": 163822, \"\\uc778\\uad6c_\\uaddc\\ubaa8_2020\": 158996}, {\"no\": 11, \"id\": 2, \"\\uc790\\uce58\\uad6c\": \"\\uc911\\uad6c\", \"CCTV_\\uaddc\\ubaa8_2015\": 654, \"CCTV_\\uaddc\\ubaa8_2020\": 2001, \"\\uc778\\uad6c_\\uaddc\\ubaa8_2015\": 134329, \"\\uc778\\uad6c_\\uaddc\\ubaa8_2020\": 134635}, {\"no\": 24, \"id\": 3, \"\\uc790\\uce58\\uad6c\": \"\\uc6a9\\uc0b0\\uad6c\", \"CCTV_\\uaddc\\ubaa8_2015\": 685, \"CCTV_\\uaddc\\ubaa8_2020\": 2383, \"\\uc778\\uad6c_\\uaddc\\ubaa8_2015\": 247909, \"\\uc778\\uad6c_\\uaddc\\ubaa8_2020\": 244645}, {\"no\": 20, \"id\": 4, \"\\uc790\\uce58\\uad6c\": \"\\uc131\\ub3d9\\uad6c\", \"CCTV_\\uaddc\\ubaa8_2015\": 1289, \"CCTV_\\uaddc\\ubaa8_2020\": 3515, \"\\uc778\\uad6c_\\uaddc\\ubaa8_2015\": 305065, \"\\uc778\\uad6c_\\uaddc\\ubaa8_2020\": 300505}, {\"no\": 13, \"id\": 5, \"\\uc790\\uce58\\uad6c\": \"\\uad11\\uc9c4\\uad6c\", \"CCTV_\\uaddc\\ubaa8_2015\": 477, \"CCTV_\\uaddc\\ubaa8_2020\": 2556, \"\\uc778\\uad6c_\\uaddc\\ubaa8_2015\": 375180, \"\\uc778\\uad6c_\\uaddc\\ubaa8_2020\": 360109}, {\"no\": 2, \"id\": 6, \"\\uc790\\uce58\\uad6c\": \"\\ub3d9\\ub300\\ubb38\\uad6c\", \"CCTV_\\uaddc\\ubaa8_2015\": 1436, \"CCTV_\\uaddc\\ubaa8_2020\": 2315, \"\\uc778\\uad6c_\\uaddc\\ubaa8_2015\": 373824, \"\\uc778\\uad6c_\\uaddc\\ubaa8_2020\": 357014}, {\"no\": 8, \"id\": 7, \"\\uc790\\uce58\\uad6c\": \"\\uc911\\ub791\\uad6c\", \"CCTV_\\uaddc\\ubaa8_2015\": 821, \"CCTV_\\uaddc\\ubaa8_2020\": 3285, \"\\uc778\\uad6c_\\uaddc\\ubaa8_2015\": 418620, \"\\uc778\\uad6c_\\uaddc\\ubaa8_2020\": 399562}, {\"no\": 17, \"id\": 8, \"\\uc790\\uce58\\uad6c\": \"\\uc131\\ubd81\\uad6c\", \"CCTV_\\uaddc\\ubaa8_2015\": 897, \"CCTV_\\uaddc\\ubaa8_2020\": 3754, \"\\uc778\\uad6c_\\uaddc\\ubaa8_2015\": 469560, \"\\uc778\\uad6c_\\uaddc\\ubaa8_2020\": 447056}, {\"no\": 7, \"id\": 9, \"\\uc790\\uce58\\uad6c\": \"\\uac15\\ubd81\\uad6c\", \"CCTV_\\uaddc\\ubaa8_2015\": 270, \"CCTV_\\uaddc\\ubaa8_2020\": 2462, \"\\uc778\\uad6c_\\uaddc\\ubaa8_2015\": 334426, \"\\uc778\\uad6c_\\uaddc\\ubaa8_2020\": 311569}, {\"no\": 0, \"id\": 10, \"\\uc790\\uce58\\uad6c\": \"\\ub3c4\\ubd09\\uad6c\", \"CCTV_\\uaddc\\ubaa8_2015\": 434, \"CCTV_\\uaddc\\ubaa8_2020\": 1356, \"\\uc778\\uad6c_\\uaddc\\ubaa8_2015\": 353241, \"\\uc778\\uad6c_\\uaddc\\ubaa8_2020\": 327361}, {\"no\": 18, \"id\": 11, \"\\uc790\\uce58\\uad6c\": \"\\ub178\\uc6d0\\uad6c\", \"CCTV_\\uaddc\\ubaa8_2015\": 909, \"CCTV_\\uaddc\\ubaa8_2020\": 2282, \"\\uc778\\uad6c_\\uaddc\\ubaa8_2015\": 578221, \"\\uc778\\uad6c_\\uaddc\\ubaa8_2020\": 527032}, {\"no\": 1, \"id\": 12, \"\\uc790\\uce58\\uad6c\": \"\\uc740\\ud3c9\\uad6c\", \"CCTV_\\uaddc\\ubaa8_2015\": 722, \"CCTV_\\uaddc\\ubaa8_2020\": 3660, \"\\uc778\\uad6c_\\uaddc\\ubaa8_2015\": 502578, \"\\uc778\\uad6c_\\uaddc\\ubaa8_2020\": 484043}, {\"no\": 21, \"id\": 13, \"\\uc790\\uce58\\uad6c\": \"\\uc11c\\ub300\\ubb38\\uad6c\", \"CCTV_\\uaddc\\ubaa8_2015\": 1235, \"CCTV_\\uaddc\\ubaa8_2020\": 2939, \"\\uc778\\uad6c_\\uaddc\\ubaa8_2015\": 323105, \"\\uc778\\uad6c_\\uaddc\\ubaa8_2020\": 322952}, {\"no\": 14, \"id\": 14, \"\\uc790\\uce58\\uad6c\": \"\\ub9c8\\ud3ec\\uad6c\", \"CCTV_\\uaddc\\ubaa8_2015\": 729, \"CCTV_\\uaddc\\ubaa8_2020\": 2401, \"\\uc778\\uad6c_\\uaddc\\ubaa8_2015\": 398351, \"\\uc778\\uad6c_\\uaddc\\ubaa8_2020\": 381858}, {\"no\": 22, \"id\": 15, \"\\uc790\\uce58\\uad6c\": \"\\uc591\\ucc9c\\uad6c\", \"CCTV_\\uaddc\\ubaa8_2015\": 2241, \"CCTV_\\uaddc\\ubaa8_2020\": 3307, \"\\uc778\\uad6c_\\uaddc\\ubaa8_2015\": 489010, \"\\uc778\\uad6c_\\uaddc\\ubaa8_2020\": 457781}, {\"no\": 10, \"id\": 16, \"\\uc790\\uce58\\uad6c\": \"\\uac15\\uc11c\\uad6c\", \"CCTV_\\uaddc\\ubaa8_2015\": 691, \"CCTV_\\uaddc\\ubaa8_2020\": 2437, \"\\uc778\\uad6c_\\uaddc\\ubaa8_2015\": 595691, \"\\uc778\\uad6c_\\uaddc\\ubaa8_2020\": 585901}, {\"no\": 5, \"id\": 17, \"\\uc790\\uce58\\uad6c\": \"\\uad6c\\ub85c\\uad6c\", \"CCTV_\\uaddc\\ubaa8_2015\": 1872, \"CCTV_\\uaddc\\ubaa8_2020\": 4075, \"\\uc778\\uad6c_\\uaddc\\ubaa8_2015\": 454604, \"\\uc778\\uad6c_\\uaddc\\ubaa8_2020\": 432488}, {\"no\": 4, \"id\": 18, \"\\uc790\\uce58\\uad6c\": \"\\uae08\\ucc9c\\uad6c\", \"CCTV_\\uaddc\\ubaa8_2015\": 619, \"CCTV_\\uaddc\\ubaa8_2020\": 2365, \"\\uc778\\uad6c_\\uaddc\\ubaa8_2015\": 256167, \"\\uc778\\uad6c_\\uaddc\\ubaa8_2020\": 247835}, {\"no\": 23, \"id\": 19, \"\\uc790\\uce58\\uad6c\": \"\\uc601\\ub4f1\\ud3ec\\uad6c\", \"CCTV_\\uaddc\\ubaa8_2015\": 1278, \"CCTV_\\uaddc\\ubaa8_2020\": 3773, \"\\uc778\\uad6c_\\uaddc\\ubaa8_2015\": 417811, \"\\uc778\\uad6c_\\uaddc\\ubaa8_2020\": 407367}, {\"no\": 3, \"id\": 20, \"\\uc790\\uce58\\uad6c\": \"\\ub3d9\\uc791\\uad6c\", \"CCTV_\\uaddc\\ubaa8_2015\": 993, \"CCTV_\\uaddc\\ubaa8_2020\": 2262, \"\\uc778\\uad6c_\\uaddc\\ubaa8_2015\": 412774, \"\\uc778\\uad6c_\\uaddc\\ubaa8_2020\": 401572}, {\"no\": 15, \"id\": 21, \"\\uc790\\uce58\\uad6c\": \"\\uad00\\uc545\\uad6c\", \"CCTV_\\uaddc\\ubaa8_2015\": 2004, \"CCTV_\\uaddc\\ubaa8_2020\": 4909, \"\\uc778\\uad6c_\\uaddc\\ubaa8_2015\": 529031, \"\\uc778\\uad6c_\\uaddc\\ubaa8_2020\": 509803}, {\"no\": 16, \"id\": 22, \"\\uc790\\uce58\\uad6c\": \"\\uc11c\\ucd08\\uad6c\", \"CCTV_\\uaddc\\ubaa8_2015\": 916, \"CCTV_\\uaddc\\ubaa8_2020\": 3730, \"\\uc778\\uad6c_\\uaddc\\ubaa8_2015\": 451258, \"\\uc778\\uad6c_\\uaddc\\ubaa8_2020\": 429025}, {\"no\": 9, \"id\": 23, \"\\uc790\\uce58\\uad6c\": \"\\uac15\\ub0a8\\uad6c\", \"CCTV_\\uaddc\\ubaa8_2015\": 1863, \"CCTV_\\uaddc\\ubaa8_2020\": 6645, \"\\uc778\\uad6c_\\uaddc\\ubaa8_2015\": 581760, \"\\uc778\\uad6c_\\uaddc\\ubaa8_2020\": 544055}, {\"no\": 19, \"id\": 24, \"\\uc790\\uce58\\uad6c\": \"\\uc1a1\\ud30c\\uad6c\", \"CCTV_\\uaddc\\ubaa8_2015\": 520, \"CCTV_\\uaddc\\ubaa8_2020\": 2743, \"\\uc778\\uad6c_\\uaddc\\ubaa8_2015\": 667480, \"\\uc778\\uad6c_\\uaddc\\ubaa8_2020\": 673926}, {\"no\": 12, \"id\": 25, \"\\uc790\\uce58\\uad6c\": \"\\uac15\\ub3d9\\uad6c\", \"CCTV_\\uaddc\\ubaa8_2015\": 725, \"CCTV_\\uaddc\\ubaa8_2020\": 2547, \"\\uc778\\uad6c_\\uaddc\\ubaa8_2015\": 463321, \"\\uc778\\uad6c_\\uaddc\\ubaa8_2020\": 463998}], \"data-d51d564e85e5c2ac393a6a28d0ca2243\": [{\"\\uc790\\uce58\\uad6c\": \"\\uc885\\ub85c\\uad6c\", \"\\uc790\\uce58\\uad6c\\uccad\": \"\\uc885\\ub85c\\uad6c\\uccad\", \"\\uc704\\ub3c4\": 37.5727864, \"\\uacbd\\ub3c4\": 126.9791778, \"\\uc8fc\\uc18c\": \"\\ub300\\ud55c\\ubbfc\\uad6d \\uc11c\\uc6b8\\ud2b9\\ubcc4\\uc2dc \\uc885\\ub85c\\uad6c \\uc218\\uc1a1\\ub3d9 \\uc0bc\\ubd09\\ub85c 43\"}, {\"\\uc790\\uce58\\uad6c\": \"\\uc911\\uad6c\", \"\\uc790\\uce58\\uad6c\\uccad\": \"\\uc911\\uad6c\\uccad\", \"\\uc704\\ub3c4\": 37.5637584, \"\\uacbd\\ub3c4\": 126.9975517, \"\\uc8fc\\uc18c\": \"\\ub300\\ud55c\\ubbfc\\uad6d \\uc11c\\uc6b8\\ud2b9\\ubcc4\\uc2dc \\uc911\\uad6c \\uc608\\uad00\\ub3d9 \\ucc3d\\uacbd\\uad81\\ub85c 17\"}, {\"\\uc790\\uce58\\uad6c\": \"\\uc6a9\\uc0b0\\uad6c\", \"\\uc790\\uce58\\uad6c\\uccad\": \"\\uc6a9\\uc0b0\\uad6c\\uccad\", \"\\uc704\\ub3c4\": 37.5325896, \"\\uacbd\\ub3c4\": 126.9900429, \"\\uc8fc\\uc18c\": \"\\ub300\\ud55c\\ubbfc\\uad6d \\uc11c\\uc6b8\\ud2b9\\ubcc4\\uc2dc \\uc6a9\\uc0b0\\uad6c \\uc774\\ud0dc\\uc6d0\\ub3d9 \\ub179\\uc0ac\\ud3c9\\ub300\\ub85c 150\"}, {\"\\uc790\\uce58\\uad6c\": \"\\uc131\\ub3d9\\uad6c\", \"\\uc790\\uce58\\uad6c\\uccad\": \"\\uc131\\ub3d9\\uad6c\\uccad\", \"\\uc704\\ub3c4\": 37.5630725, \"\\uacbd\\ub3c4\": 127.0366688, \"\\uc8fc\\uc18c\": \"\\ub300\\ud55c\\ubbfc\\uad6d \\uc11c\\uc6b8\\ud2b9\\ubcc4\\uc2dc \\uc131\\ub3d9\\uad6c \\ud589\\ub2f9\\ub3d9 \\uace0\\uc0b0\\uc790\\ub85c 270\"}, {\"\\uc790\\uce58\\uad6c\": \"\\uad11\\uc9c4\\uad6c\", \"\\uc790\\uce58\\uad6c\\uccad\": \"\\uad11\\uc9c4\\uad6c\\uccad\", \"\\uc704\\ub3c4\": 37.5385333, \"\\uacbd\\ub3c4\": 127.0823772, \"\\uc8fc\\uc18c\": \"\\ub300\\ud55c\\ubbfc\\uad6d \\uc11c\\uc6b8\\ud2b9\\ubcc4\\uc2dc \\uad11\\uc9c4\\uad6c \\uc790\\uc5911\\ub3d9 \\uc790\\uc591\\ub85c 117\"}, {\"\\uc790\\uce58\\uad6c\": \"\\ub3d9\\ub300\\ubb38\\uad6c\", \"\\uc790\\uce58\\uad6c\\uccad\": \"\\ub3d9\\ub300\\ubb38\\uad6c\\uccad\", \"\\uc704\\ub3c4\": 37.5744155, \"\\uacbd\\ub3c4\": 127.0397427, \"\\uc8fc\\uc18c\": \"\\ub300\\ud55c\\ubbfc\\uad6d \\uc11c\\uc6b8\\ud2b9\\ubcc4\\uc2dc \\ub3d9\\ub300\\ubb38\\uad6c \\uc6a9\\ub450\\ub3d9 \\ucc9c\\ud638\\ub300\\ub85c 145\"}, {\"\\uc790\\uce58\\uad6c\": \"\\uc911\\ub791\\uad6c\", \"\\uc790\\uce58\\uad6c\\uccad\": \"\\uc911\\ub791\\uad6c\\uccad\", \"\\uc704\\ub3c4\": 37.60656, \"\\uacbd\\ub3c4\": 127.092624, \"\\uc8fc\\uc18c\": \"\\ub300\\ud55c\\ubbfc\\uad6d \\uc11c\\uc6b8\\ud2b9\\ubcc4\\uc2dc \\uc911\\ub791\\uad6c \\uc2e0\\ub0b4\\ub3d9 662\"}, {\"\\uc790\\uce58\\uad6c\": \"\\uc131\\ubd81\\uad6c\", \"\\uc790\\uce58\\uad6c\\uccad\": \"\\uc131\\ubd81\\uad6c\\uccad\", \"\\uc704\\ub3c4\": 37.589366, \"\\uacbd\\ub3c4\": 127.016743, \"\\uc8fc\\uc18c\": \"\\ub300\\ud55c\\ubbfc\\uad6d \\uc11c\\uc6b8\\ud2b9\\ubcc4\\uc2dc \\uc131\\ubd81\\uad6c \\uc0bc\\uc120\\ub3d9 \\ubcf4\\ubb38\\ub85c 168\"}, {\"\\uc790\\uce58\\uad6c\": \"\\uac15\\ubd81\\uad6c\", \"\\uc790\\uce58\\uad6c\\uccad\": \"\\uac15\\ubd81\\uad6c\\uccad\", \"\\uc704\\ub3c4\": 37.6397767, \"\\uacbd\\ub3c4\": 127.0255184, \"\\uc8fc\\uc18c\": \"\\ub300\\ud55c\\ubbfc\\uad6d \\uc11c\\uc6b8\\ud2b9\\ubcc4\\uc2dc \\uac15\\ubd81\\uad6c \\uc218\\uc720\\ub3d9 \\ub3c4\\ubd09\\ub85c89\\uae38 13\"}, {\"\\uc790\\uce58\\uad6c\": \"\\ub3c4\\ubd09\\uad6c\", \"\\uc790\\uce58\\uad6c\\uccad\": \"\\ub3c4\\ubd09\\uad6c\\uccad\", \"\\uc704\\ub3c4\": 37.6687735, \"\\uacbd\\ub3c4\": 127.047071, \"\\uc8fc\\uc18c\": \"\\ub300\\ud55c\\ubbfc\\uad6d \\uc11c\\uc6b8\\ud2b9\\ubcc4\\uc2dc \\ub3c4\\ubd09\\uad6c \\ubc29\\ud559\\ub3d9 \\ub9c8\\ub4e4\\ub85c 656\"}, {\"\\uc790\\uce58\\uad6c\": \"\\ub178\\uc6d0\\uad6c\", \"\\uc790\\uce58\\uad6c\\uccad\": \"\\ub178\\uc6d0\\uad6c\\uccad\", \"\\uc704\\ub3c4\": 37.6540471, \"\\uacbd\\ub3c4\": 127.0563372, \"\\uc8fc\\uc18c\": \"\\ub300\\ud55c\\ubbfc\\uad6d \\uc11c\\uc6b8\\ud2b9\\ubcc4\\uc2dc \\ub178\\uc6d0\\uad6c \\uc0c1\\uacc46.7\\ub3d9 \\ub178\\ud574\\ub85c 437\"}, {\"\\uc790\\uce58\\uad6c\": \"\\uc740\\ud3c9\\uad6c\", \"\\uc790\\uce58\\uad6c\\uccad\": \"\\uc740\\ud3c9\\uad6c\\uccad\", \"\\uc704\\ub3c4\": 37.6027496, \"\\uacbd\\ub3c4\": 126.9292386, \"\\uc8fc\\uc18c\": \"\\ub300\\ud55c\\ubbfc\\uad6d \\uc11c\\uc6b8\\ud2b9\\ubcc4\\uc2dc \\uc740\\ud3c9\\uad6c \\ub179\\ubc88\\ub3d9 \\uc740\\ud3c9\\ub85c 195\"}, {\"\\uc790\\uce58\\uad6c\": \"\\uc11c\\ub300\\ubb38\\uad6c\", \"\\uc790\\uce58\\uad6c\\uccad\": \"\\uc11c\\ub300\\ubb38\\uad6c\\uccad\", \"\\uc704\\ub3c4\": 37.5791728, \"\\uacbd\\ub3c4\": 126.9367815, \"\\uc8fc\\uc18c\": \"\\ub300\\ud55c\\ubbfc\\uad6d \\uc11c\\uc6b8\\ud2b9\\ubcc4\\uc2dc \\uc11c\\ub300\\ubb38\\uad6c \\uc5f0\\ud76c\\ub3d9 \\uc5f0\\ud76c\\ub85c 248\"}, {\"\\uc790\\uce58\\uad6c\": \"\\ub9c8\\ud3ec\\uad6c\", \"\\uc790\\uce58\\uad6c\\uccad\": \"\\ub9c8\\ud3ec\\uad6c\\uccad\", \"\\uc704\\ub3c4\": 37.5662001, \"\\uacbd\\ub3c4\": 126.9016437, \"\\uc8fc\\uc18c\": \"\\ub300\\ud55c\\ubbfc\\uad6d \\uc11c\\uc6b8\\ud2b9\\ubcc4\\uc2dc \\ub9c8\\ud3ec\\uad6c \\uc131\\uc0b02\\ub3d9 \\uc6d4\\ub4dc\\ucef5\\ub85c 212\"}, {\"\\uc790\\uce58\\uad6c\": \"\\uc591\\ucc9c\\uad6c\", \"\\uc790\\uce58\\uad6c\\uccad\": \"\\uc591\\ucc9c\\uad6c\\uccad\", \"\\uc704\\ub3c4\": 37.5169508, \"\\uacbd\\ub3c4\": 126.8665644, \"\\uc8fc\\uc18c\": \"\\ub300\\ud55c\\ubbfc\\uad6d \\uc11c\\uc6b8\\ud2b9\\ubcc4\\uc2dc \\uc591\\ucc9c\\uad6c \\uc2e0\\uc8156\\ub3d9 \\ubaa9\\ub3d9\\ub3d9\\ub85c 105\"}, {\"\\uc790\\uce58\\uad6c\": \"\\uac15\\uc11c\\uad6c\", \"\\uc790\\uce58\\uad6c\\uccad\": \"\\uac15\\uc11c\\uad6c\\uccad\", \"\\uc704\\ub3c4\": 37.5509103, \"\\uacbd\\ub3c4\": 126.8495742, \"\\uc8fc\\uc18c\": \"\\ub300\\ud55c\\ubbfc\\uad6d \\uc11c\\uc6b8\\ud2b9\\ubcc4\\uc2dc \\uac15\\uc11c\\uad6c \\ud654\\uace1\\ub3d9 \\ud654\\uace1\\ub85c 302\"}, {\"\\uc790\\uce58\\uad6c\": \"\\uad6c\\ub85c\\uad6c\", \"\\uc790\\uce58\\uad6c\\uccad\": \"\\uad6c\\ub85c\\uad6c\\uccad\", \"\\uc704\\ub3c4\": 37.4954703, \"\\uacbd\\ub3c4\": 126.8876391, \"\\uc8fc\\uc18c\": \"\\ub300\\ud55c\\ubbfc\\uad6d \\uc11c\\uc6b8\\ud2b9\\ubcc4\\uc2dc \\uad6c\\ub85c\\uad6c \\uad6c\\ub85c\\ub3d9 \\uac00\\ub9c8\\uc0b0\\ub85c 245\"}, {\"\\uc790\\uce58\\uad6c\": \"\\uae08\\ucc9c\\uad6c\", \"\\uc790\\uce58\\uad6c\\uccad\": \"\\uae08\\ucc9c\\uad6c\\uccad\", \"\\uc704\\ub3c4\": 37.4518527, \"\\uacbd\\ub3c4\": 126.9020358, \"\\uc8fc\\uc18c\": \"\\ub300\\ud55c\\ubbfc\\uad6d \\uc11c\\uc6b8\\ud2b9\\ubcc4\\uc2dc \\uae08\\ucc9c\\uad6c\"}, {\"\\uc790\\uce58\\uad6c\": \"\\uc601\\ub4f1\\ud3ec\\uad6c\", \"\\uc790\\uce58\\uad6c\\uccad\": \"\\uc601\\ub4f1\\ud3ec\\uad6c\\uccad\", \"\\uc704\\ub3c4\": 37.526344, \"\\uacbd\\ub3c4\": 126.896256, \"\\uc8fc\\uc18c\": \"\\ub300\\ud55c\\ubbfc\\uad6d \\uc11c\\uc6b8\\ud2b9\\ubcc4\\uc2dc \\uc601\\ub4f1\\ud3ec\\uad6c \\ub2f9\\uc0b0\\ub3d93\\uac00 \\ub2f9\\uc0b0\\ub85c 123\"}, {\"\\uc790\\uce58\\uad6c\": \"\\ub3d9\\uc791\\uad6c\", \"\\uc790\\uce58\\uad6c\\uccad\": \"\\ub3d9\\uc791\\uad6c\\uccad\", \"\\uc704\\ub3c4\": 37.5124298, \"\\uacbd\\ub3c4\": 126.9397997, \"\\uc8fc\\uc18c\": \"\\ub300\\ud55c\\ubbfc\\uad6d \\uc11c\\uc6b8\\ud2b9\\ubcc4\\uc2dc \\ub3d9\\uc791\\uad6c \\ub178\\ub7c9\\uc9c42\\ub3d9 \\uc7a5\\uc2b9\\ubc30\\uae30\\ub85c 161\"}, {\"\\uc790\\uce58\\uad6c\": \"\\uad00\\uc545\\uad6c\", \"\\uc790\\uce58\\uad6c\\uccad\": \"\\uad00\\uc545\\uad6c\\uccad\", \"\\uc704\\ub3c4\": 37.4781285, \"\\uacbd\\ub3c4\": 126.9515024, \"\\uc8fc\\uc18c\": \"\\ub300\\ud55c\\ubbfc\\uad6d \\uc11c\\uc6b8\\ud2b9\\ubcc4\\uc2dc \\uad00\\uc545\\uad6c \\uccad\\ub8e1\\ub3d9 \\uad00\\uc545\\ub85c 145\"}, {\"\\uc790\\uce58\\uad6c\": \"\\uc11c\\ucd08\\uad6c\", \"\\uc790\\uce58\\uad6c\\uccad\": \"\\uc11c\\ucd08\\uad6c\\uccad\", \"\\uc704\\ub3c4\": 37.483574, \"\\uacbd\\ub3c4\": 127.032661, \"\\uc8fc\\uc18c\": \"\\ub300\\ud55c\\ubbfc\\uad6d \\uc11c\\uc6b8\\ud2b9\\ubcc4\\uc2dc \\uc11c\\ucd08\\uad6c \\uc11c\\ucd082\\ub3d9 \\ub0a8\\ubd80\\uc21c\\ud658\\ub85c 2584\"}, {\"\\uc790\\uce58\\uad6c\": \"\\uac15\\ub0a8\\uad6c\", \"\\uc790\\uce58\\uad6c\\uccad\": \"\\uac15\\ub0a8\\uad6c\\uccad\", \"\\uc704\\ub3c4\": 37.5172363, \"\\uacbd\\ub3c4\": 127.0473248, \"\\uc8fc\\uc18c\": \"\\ub300\\ud55c\\ubbfc\\uad6d \\uc11c\\uc6b8\\ud2b9\\ubcc4\\uc2dc \\uac15\\ub0a8\\uad6c 426\"}, {\"\\uc790\\uce58\\uad6c\": \"\\uc1a1\\ud30c\\uad6c\", \"\\uc790\\uce58\\uad6c\\uccad\": \"\\uc1a1\\ud30c\\uad6c\\uccad\", \"\\uc704\\ub3c4\": 37.5144161, \"\\uacbd\\ub3c4\": 127.1060657, \"\\uc8fc\\uc18c\": \"\\ub300\\ud55c\\ubbfc\\uad6d \\uc11c\\uc6b8\\ud2b9\\ubcc4\\uc2dc \\uc1a1\\ud30c\\uad6c \\uc2e0\\ucc9c\\ub3d9 \\uc62c\\ub9bc\\ud53d\\ub85c 326\"}, {\"\\uc790\\uce58\\uad6c\": \"\\uac15\\ub3d9\\uad6c\", \"\\uc790\\uce58\\uad6c\\uccad\": \"\\uac15\\ub3d9\\uad6c\\uccad\", \"\\uc704\\ub3c4\": 37.5302554, \"\\uacbd\\ub3c4\": 127.1237961, \"\\uc8fc\\uc18c\": \"\\ub300\\ud55c\\ubbfc\\uad6d \\uc11c\\uc6b8\\ud2b9\\ubcc4\\uc2dc \\uac15\\ub3d9\\uad6c \\uc131\\ub0b4\\ub3d9 \\uc131\\ub0b4\\ub85c 25\"}]}}, {\"mode\": \"vega-lite\"});\n",
       "</script>"
      ],
      "text/plain": [
       "alt.HConcatChart(...)"
      ]
     },
     "execution_count": 12,
     "metadata": {},
     "output_type": "execute_result"
    }
   ],
   "source": [
    "map2015 = map('2015')\n",
    "map2020 = map('2020')\n",
    "\n",
    "# la= alt.layer(map2015,points)\n",
    "# la\n",
    "alt.hconcat(\n",
    "    alt.layer(map2015,points),alt.layer(map2020,points)\n",
    " ).configure_view(\n",
    "     stroke=None\n",
    " )"
   ]
  },
  {
   "cell_type": "markdown",
   "id": "96f369a3",
   "metadata": {},
   "source": [
    "- 단계구분도 시각화 결론"
   ]
  },
  {
   "cell_type": "markdown",
   "id": "5b2bc56d",
   "metadata": {},
   "source": [
    " CCTV 설치 비율의 단계 구분도를 보았을 때 2015년도에서의 종로구와 함께 2020년에서는 중구와 강남구에서 우세를 띈다. 이는 중구와 종로구 도심 공동화 현상으로 거주인구가 서울 외곽으로 빠져나갔기 때문에 증가율이 높다고 할 수 있다. 이에 비해 노원구 등의 거주인구가 많은 곳은 상대적으로 CCTV 설치율 증가폭이 상대적으로 더 낮게 관측된다. 또한 강남구는 지속적인 지역 개발이 요인이 강남구의 cctv 증가율 우세의 원인이 된 것이라고 말할 수 있다.  "
   ]
  },
  {
   "cell_type": "markdown",
   "id": "418566ce",
   "metadata": {},
   "source": [
    "## 5. 결론\n"
   ]
  },
  {
   "cell_type": "markdown",
   "id": "57fb31eb",
   "metadata": {},
   "source": [
    "### 배운점\n",
    "\n",
    " 함수를 통해 차트의 공통된 속성을 인코딩하고 변수를 입력해 함수를 호출해 원하는 모양으로 차트를 그려내는 방식을 알게 되었다. \n",
    "\n",
    "### 느낀점\n",
    "\n",
    " 시각화를 할 때는 불필요한 중복 작업을 최소화하고 모두의 시선에서 이해할 수 있는 자료를 만드는 점이 중요하다는 점을 느끼게 되었다. 왜냐하면 변화의 정도는 데이터 값만 봐도 분석이 될 것 같다고 지금까지 생각을 해왔기 때문이다. 하지만 데이터를 직접 시각화해 보니 이 시각화 자료가 내 관점뿐만 아닌 아무것도 모르는 타인의 관점에서 보았을때도 한 눈에 그 사람을 알기 쉽게 이해시킬 수 있을 것 같다는 생각이 들었다. 그리고 일일이 차트를 코딩하지 않고 함수를 통해 공통된 부분을 코딩하고 변수 값만 주어 원하는 모습으로 시각화 할 수 있는 효울성을 깨닫게 되었다.\n",
    "\n",
    "### 각오\n",
    "\n",
    " 변이율을 중점으로 살펴볼 수 있는 다른 데이터들도 시각화 해보아야 겠다."
   ]
  }
 ],
 "metadata": {
  "interpreter": {
   "hash": "362598f7d0e42e270d614c3ab8a7090827925db9456e736e9535cde3714ef2f0"
  },
  "kernelspec": {
   "display_name": "Python 3 (ipykernel)",
   "language": "python",
   "name": "python3"
  },
  "language_info": {
   "codemirror_mode": {
    "name": "ipython",
    "version": 3
   },
   "file_extension": ".py",
   "mimetype": "text/x-python",
   "name": "python",
   "nbconvert_exporter": "python",
   "pygments_lexer": "ipython3",
   "version": "3.9.7"
  },
  "toc": {
   "base_numbering": 1,
   "nav_menu": {},
   "number_sections": false,
   "sideBar": true,
   "skip_h1_title": false,
   "title_cell": "Table of Contents",
   "title_sidebar": "Contents",
   "toc_cell": false,
   "toc_position": {},
   "toc_section_display": true,
   "toc_window_display": true
  }
 },
 "nbformat": 4,
 "nbformat_minor": 5
}
